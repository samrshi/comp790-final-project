{
 "cells": [
  {
   "cell_type": "markdown",
   "metadata": {},
   "source": [
    "# Space Utilization Visualizations"
   ]
  },
  {
   "cell_type": "markdown",
   "metadata": {},
   "source": [
    "## Configuration\n",
    "\n",
    "Import the Python file that contains the code to generate the visualizations. Then, set the relative paths to the CSXL and App Lab csvs. To regenerate with new data, clone the repository and change the paths to point to your new data."
   ]
  },
  {
   "cell_type": "code",
   "execution_count": 1,
   "metadata": {},
   "outputs": [],
   "source": [
    "# Import visualization generation scripts\n",
    "from csxl_visualization_scripts import *\n",
    "\n",
    "# Set paths to CSV files\n",
    "csxl_csv_file_path: str = \"data/csxl_data.csv\"\n",
    "app_lab_csv_file_path: str = \"data/app-lab-data.csv\""
   ]
  },
  {
   "cell_type": "markdown",
   "metadata": {},
   "source": [
    "\n",
    "## Number of Distinct Visitors\n",
    "\n",
    "First, we'll look at the number of distinct visitors at each space. These graphs were created in Tableau by finding the number of unique user ids in each data set.\n",
    "\n",
    "These will need to be manually regenerated in Tableau, but here is a dynamically generated count made from the current data sets."
   ]
  },
  {
   "cell_type": "code",
   "execution_count": 2,
   "metadata": {},
   "outputs": [
    {
     "name": "stdout",
     "output_type": "stream",
     "text": [
      "CSXL Distinct Users:\t 596\n",
      "App Lab Distinct Users:\t 147\n"
     ]
    }
   ],
   "source": [
    "csxl_distinct = csxl_distinct_visitors(csxl_csv_file_path)\n",
    "app_lab_distinct = app_lab_distinct_visitors(app_lab_csv_file_path)\n",
    "\n",
    "print(f'CSXL Distinct Users:\\t {csxl_distinct}')\n",
    "print(f'App Lab Distinct Users:\\t {app_lab_distinct}')"
   ]
  },
  {
   "cell_type": "markdown",
   "metadata": {},
   "source": [
    "<img width=\"350px\" src=\"images/distinct_csxl_users.png\">\n",
    "<img width=\"350px\" src=\"images/distinct_app_lab_users.png\">"
   ]
  },
  {
   "cell_type": "markdown",
   "metadata": {},
   "source": [
    "## Popularity by Time of Day\n",
    "\n",
    "Now, we will take a look at the most popular times for each space. These visualizations were created by pulling out the day of the week (ex: Wednesday) and hour (ex: 2 PM) from the reservation start dates and grouping the reservations on [day of the week, hour]. We were then able to create bar charts for each day of the week that show popularity by time of day.\n",
    "\n",
    "The graphs show the total number of reservations for each hour in the day, grouped by day of the week. So, for instance, you can see how many reservations started at 2pm on Wednesdays for each space."
   ]
  },
  {
   "cell_type": "code",
   "execution_count": 3,
   "metadata": {},
   "outputs": [
    {
     "data": {
      "text/html": [
       "\n",
       "<style>\n",
       "  #altair-viz-58efdd2c47b443ada766c92be57a052c.vega-embed {\n",
       "    width: 100%;\n",
       "    display: flex;\n",
       "  }\n",
       "\n",
       "  #altair-viz-58efdd2c47b443ada766c92be57a052c.vega-embed details,\n",
       "  #altair-viz-58efdd2c47b443ada766c92be57a052c.vega-embed details summary {\n",
       "    position: relative;\n",
       "  }\n",
       "</style>\n",
       "<div id=\"altair-viz-58efdd2c47b443ada766c92be57a052c\"></div>\n",
       "<script type=\"text/javascript\">\n",
       "  var VEGA_DEBUG = (typeof VEGA_DEBUG == \"undefined\") ? {} : VEGA_DEBUG;\n",
       "  (function(spec, embedOpt){\n",
       "    let outputDiv = document.currentScript.previousElementSibling;\n",
       "    if (outputDiv.id !== \"altair-viz-58efdd2c47b443ada766c92be57a052c\") {\n",
       "      outputDiv = document.getElementById(\"altair-viz-58efdd2c47b443ada766c92be57a052c\");\n",
       "    }\n",
       "    const paths = {\n",
       "      \"vega\": \"https://cdn.jsdelivr.net/npm/vega@5?noext\",\n",
       "      \"vega-lib\": \"https://cdn.jsdelivr.net/npm/vega-lib?noext\",\n",
       "      \"vega-lite\": \"https://cdn.jsdelivr.net/npm/vega-lite@5.17.0?noext\",\n",
       "      \"vega-embed\": \"https://cdn.jsdelivr.net/npm/vega-embed@6?noext\",\n",
       "    };\n",
       "\n",
       "    function maybeLoadScript(lib, version) {\n",
       "      var key = `${lib.replace(\"-\", \"\")}_version`;\n",
       "      return (VEGA_DEBUG[key] == version) ?\n",
       "        Promise.resolve(paths[lib]) :\n",
       "        new Promise(function(resolve, reject) {\n",
       "          var s = document.createElement('script');\n",
       "          document.getElementsByTagName(\"head\")[0].appendChild(s);\n",
       "          s.async = true;\n",
       "          s.onload = () => {\n",
       "            VEGA_DEBUG[key] = version;\n",
       "            return resolve(paths[lib]);\n",
       "          };\n",
       "          s.onerror = () => reject(`Error loading script: ${paths[lib]}`);\n",
       "          s.src = paths[lib];\n",
       "        });\n",
       "    }\n",
       "\n",
       "    function showError(err) {\n",
       "      outputDiv.innerHTML = `<div class=\"error\" style=\"color:red;\">${err}</div>`;\n",
       "      throw err;\n",
       "    }\n",
       "\n",
       "    function displayChart(vegaEmbed) {\n",
       "      vegaEmbed(outputDiv, spec, embedOpt)\n",
       "        .catch(err => showError(`Javascript Error: ${err.message}<br>This usually means there's a typo in your chart specification. See the javascript console for the full traceback.`));\n",
       "    }\n",
       "\n",
       "    if(typeof define === \"function\" && define.amd) {\n",
       "      requirejs.config({paths});\n",
       "      require([\"vega-embed\"], displayChart, err => showError(`Error loading script: ${err.message}`));\n",
       "    } else {\n",
       "      maybeLoadScript(\"vega\", \"5\")\n",
       "        .then(() => maybeLoadScript(\"vega-lite\", \"5.17.0\"))\n",
       "        .then(() => maybeLoadScript(\"vega-embed\", \"6\"))\n",
       "        .catch(showError)\n",
       "        .then(() => displayChart(vegaEmbed));\n",
       "    }\n",
       "  })({\"config\": {\"view\": {\"continuousWidth\": 300, \"continuousHeight\": 300}, \"mark\": {\"color\": \"#4786c6\"}}, \"data\": {\"name\": \"data-652dbae7ba14bfd7e10d7defb0231241\"}, \"mark\": {\"type\": \"bar\"}, \"encoding\": {\"column\": {\"field\": \"day_of_week\", \"sort\": [\"Monday\", \"Tuesday\", \"Wednesday\", \"Thursday\", \"Friday\"], \"title\": null, \"type\": \"nominal\"}, \"tooltip\": {\"field\": \"count\", \"type\": \"quantitative\"}, \"x\": {\"field\": \"civilian_time\", \"scale\": {\"domain\": [\"9 AM\", \"10 AM\", \"11 AM\", \"12 PM\", \"1 PM\", \"2 PM\", \"3 PM\", \"4 PM\", \"5 PM\", \"6 PM\", \"7 PM\"]}, \"sort\": [\"9 AM\", \"10 AM\", \"11 AM\", \"12 PM\", \"1 PM\", \"2 PM\", \"3 PM\", \"4 PM\", \"5 PM\", \"6 PM\", \"7 PM\"], \"title\": \"Hour of the Day\", \"type\": \"nominal\"}, \"y\": {\"field\": \"count\", \"scale\": {\"domain\": [0, 244.0]}, \"title\": \"Reservations\", \"type\": \"quantitative\"}}, \"height\": 150, \"title\": \"Popular Times in the CSXL\", \"$schema\": \"https://vega.github.io/schema/vega-lite/v5.17.0.json\", \"datasets\": {\"data-652dbae7ba14bfd7e10d7defb0231241\": [{\"day_of_week\": \"Friday\", \"civilian_time\": \"1 PM\", \"count\": 110}, {\"day_of_week\": \"Friday\", \"civilian_time\": \"10 AM\", \"count\": 85}, {\"day_of_week\": \"Friday\", \"civilian_time\": \"11 AM\", \"count\": 53}, {\"day_of_week\": \"Friday\", \"civilian_time\": \"12 PM\", \"count\": 90}, {\"day_of_week\": \"Friday\", \"civilian_time\": \"2 PM\", \"count\": 157}, {\"day_of_week\": \"Friday\", \"civilian_time\": \"3 PM\", \"count\": 94}, {\"day_of_week\": \"Friday\", \"civilian_time\": \"4 PM\", \"count\": 69}, {\"day_of_week\": \"Friday\", \"civilian_time\": \"5 PM\", \"count\": 29}, {\"day_of_week\": \"Monday\", \"civilian_time\": \"1 PM\", \"count\": 153}, {\"day_of_week\": \"Monday\", \"civilian_time\": \"10 AM\", \"count\": 100}, {\"day_of_week\": \"Monday\", \"civilian_time\": \"11 AM\", \"count\": 88}, {\"day_of_week\": \"Monday\", \"civilian_time\": \"12 PM\", \"count\": 149}, {\"day_of_week\": \"Monday\", \"civilian_time\": \"2 PM\", \"count\": 209}, {\"day_of_week\": \"Monday\", \"civilian_time\": \"3 PM\", \"count\": 200}, {\"day_of_week\": \"Monday\", \"civilian_time\": \"4 PM\", \"count\": 120}, {\"day_of_week\": \"Monday\", \"civilian_time\": \"5 PM\", \"count\": 56}, {\"day_of_week\": \"Thursday\", \"civilian_time\": \"1 PM\", \"count\": 188}, {\"day_of_week\": \"Thursday\", \"civilian_time\": \"10 AM\", \"count\": 113}, {\"day_of_week\": \"Thursday\", \"civilian_time\": \"11 AM\", \"count\": 94}, {\"day_of_week\": \"Thursday\", \"civilian_time\": \"12 PM\", \"count\": 166}, {\"day_of_week\": \"Thursday\", \"civilian_time\": \"2 PM\", \"count\": 121}, {\"day_of_week\": \"Thursday\", \"civilian_time\": \"3 PM\", \"count\": 215}, {\"day_of_week\": \"Thursday\", \"civilian_time\": \"4 PM\", \"count\": 129}, {\"day_of_week\": \"Thursday\", \"civilian_time\": \"5 PM\", \"count\": 66}, {\"day_of_week\": \"Tuesday\", \"civilian_time\": \"1 PM\", \"count\": 175}, {\"day_of_week\": \"Tuesday\", \"civilian_time\": \"10 AM\", \"count\": 113}, {\"day_of_week\": \"Tuesday\", \"civilian_time\": \"11 AM\", \"count\": 103}, {\"day_of_week\": \"Tuesday\", \"civilian_time\": \"12 PM\", \"count\": 227}, {\"day_of_week\": \"Tuesday\", \"civilian_time\": \"2 PM\", \"count\": 127}, {\"day_of_week\": \"Tuesday\", \"civilian_time\": \"3 PM\", \"count\": 235}, {\"day_of_week\": \"Tuesday\", \"civilian_time\": \"4 PM\", \"count\": 139}, {\"day_of_week\": \"Tuesday\", \"civilian_time\": \"5 PM\", \"count\": 67}, {\"day_of_week\": \"Wednesday\", \"civilian_time\": \"1 PM\", \"count\": 189}, {\"day_of_week\": \"Wednesday\", \"civilian_time\": \"10 AM\", \"count\": 103}, {\"day_of_week\": \"Wednesday\", \"civilian_time\": \"11 AM\", \"count\": 78}, {\"day_of_week\": \"Wednesday\", \"civilian_time\": \"12 PM\", \"count\": 211}, {\"day_of_week\": \"Wednesday\", \"civilian_time\": \"2 PM\", \"count\": 244}, {\"day_of_week\": \"Wednesday\", \"civilian_time\": \"3 PM\", \"count\": 174}, {\"day_of_week\": \"Wednesday\", \"civilian_time\": \"4 PM\", \"count\": 120}, {\"day_of_week\": \"Wednesday\", \"civilian_time\": \"5 PM\", \"count\": 75}]}}, {\"mode\": \"vega-lite\"});\n",
       "</script>"
      ],
      "text/plain": [
       "alt.Chart(...)"
      ]
     },
     "metadata": {},
     "output_type": "display_data"
    },
    {
     "data": {
      "text/html": [
       "\n",
       "<style>\n",
       "  #altair-viz-d80c11c2eeae42be8f05d461b4fc6eed.vega-embed {\n",
       "    width: 100%;\n",
       "    display: flex;\n",
       "  }\n",
       "\n",
       "  #altair-viz-d80c11c2eeae42be8f05d461b4fc6eed.vega-embed details,\n",
       "  #altair-viz-d80c11c2eeae42be8f05d461b4fc6eed.vega-embed details summary {\n",
       "    position: relative;\n",
       "  }\n",
       "</style>\n",
       "<div id=\"altair-viz-d80c11c2eeae42be8f05d461b4fc6eed\"></div>\n",
       "<script type=\"text/javascript\">\n",
       "  var VEGA_DEBUG = (typeof VEGA_DEBUG == \"undefined\") ? {} : VEGA_DEBUG;\n",
       "  (function(spec, embedOpt){\n",
       "    let outputDiv = document.currentScript.previousElementSibling;\n",
       "    if (outputDiv.id !== \"altair-viz-d80c11c2eeae42be8f05d461b4fc6eed\") {\n",
       "      outputDiv = document.getElementById(\"altair-viz-d80c11c2eeae42be8f05d461b4fc6eed\");\n",
       "    }\n",
       "    const paths = {\n",
       "      \"vega\": \"https://cdn.jsdelivr.net/npm/vega@5?noext\",\n",
       "      \"vega-lib\": \"https://cdn.jsdelivr.net/npm/vega-lib?noext\",\n",
       "      \"vega-lite\": \"https://cdn.jsdelivr.net/npm/vega-lite@5.17.0?noext\",\n",
       "      \"vega-embed\": \"https://cdn.jsdelivr.net/npm/vega-embed@6?noext\",\n",
       "    };\n",
       "\n",
       "    function maybeLoadScript(lib, version) {\n",
       "      var key = `${lib.replace(\"-\", \"\")}_version`;\n",
       "      return (VEGA_DEBUG[key] == version) ?\n",
       "        Promise.resolve(paths[lib]) :\n",
       "        new Promise(function(resolve, reject) {\n",
       "          var s = document.createElement('script');\n",
       "          document.getElementsByTagName(\"head\")[0].appendChild(s);\n",
       "          s.async = true;\n",
       "          s.onload = () => {\n",
       "            VEGA_DEBUG[key] = version;\n",
       "            return resolve(paths[lib]);\n",
       "          };\n",
       "          s.onerror = () => reject(`Error loading script: ${paths[lib]}`);\n",
       "          s.src = paths[lib];\n",
       "        });\n",
       "    }\n",
       "\n",
       "    function showError(err) {\n",
       "      outputDiv.innerHTML = `<div class=\"error\" style=\"color:red;\">${err}</div>`;\n",
       "      throw err;\n",
       "    }\n",
       "\n",
       "    function displayChart(vegaEmbed) {\n",
       "      vegaEmbed(outputDiv, spec, embedOpt)\n",
       "        .catch(err => showError(`Javascript Error: ${err.message}<br>This usually means there's a typo in your chart specification. See the javascript console for the full traceback.`));\n",
       "    }\n",
       "\n",
       "    if(typeof define === \"function\" && define.amd) {\n",
       "      requirejs.config({paths});\n",
       "      require([\"vega-embed\"], displayChart, err => showError(`Error loading script: ${err.message}`));\n",
       "    } else {\n",
       "      maybeLoadScript(\"vega\", \"5\")\n",
       "        .then(() => maybeLoadScript(\"vega-lite\", \"5.17.0\"))\n",
       "        .then(() => maybeLoadScript(\"vega-embed\", \"6\"))\n",
       "        .catch(showError)\n",
       "        .then(() => displayChart(vegaEmbed));\n",
       "    }\n",
       "  })({\"config\": {\"view\": {\"continuousWidth\": 300, \"continuousHeight\": 300}, \"mark\": {\"color\": \"#4786c6\"}}, \"data\": {\"name\": \"data-4b413cbafcc4828ffc4e602cde35e7ec\"}, \"mark\": {\"type\": \"bar\"}, \"encoding\": {\"column\": {\"field\": \"day_of_week\", \"sort\": [\"Monday\", \"Tuesday\", \"Wednesday\", \"Thursday\", \"Friday\"], \"title\": null, \"type\": \"nominal\"}, \"tooltip\": {\"field\": \"count\", \"type\": \"quantitative\"}, \"x\": {\"field\": \"civilian_time\", \"sort\": [\"9 AM\", \"10 AM\", \"11 AM\", \"12 PM\", \"1 PM\", \"2 PM\", \"3 PM\", \"4 PM\", \"5 PM\", \"6 PM\", \"7 PM\"], \"title\": \"Hour of the Day\", \"type\": \"nominal\"}, \"y\": {\"field\": \"count\", \"scale\": {\"domain\": [0, 244.0]}, \"title\": \"Reservations\", \"type\": \"quantitative\"}}, \"height\": 150, \"title\": \"Popular Times in the App Lab\", \"$schema\": \"https://vega.github.io/schema/vega-lite/v5.17.0.json\", \"datasets\": {\"data-4b413cbafcc4828ffc4e602cde35e7ec\": [{\"day_of_week\": \"Friday\", \"civilian_time\": \"1 PM\", \"count\": 11}, {\"day_of_week\": \"Friday\", \"civilian_time\": \"10 AM\", \"count\": 1}, {\"day_of_week\": \"Friday\", \"civilian_time\": \"11 AM\", \"count\": 2}, {\"day_of_week\": \"Friday\", \"civilian_time\": \"12 PM\", \"count\": 13}, {\"day_of_week\": \"Friday\", \"civilian_time\": \"2 PM\", \"count\": 12}, {\"day_of_week\": \"Friday\", \"civilian_time\": \"3 PM\", \"count\": 9}, {\"day_of_week\": \"Friday\", \"civilian_time\": \"4 PM\", \"count\": 13}, {\"day_of_week\": \"Friday\", \"civilian_time\": \"5 PM\", \"count\": 5}, {\"day_of_week\": \"Friday\", \"civilian_time\": \"6 PM\", \"count\": 1}, {\"day_of_week\": \"Friday\", \"civilian_time\": \"9 AM\", \"count\": 1}, {\"day_of_week\": \"Monday\", \"civilian_time\": \"1 PM\", \"count\": 14}, {\"day_of_week\": \"Monday\", \"civilian_time\": \"11 AM\", \"count\": 4}, {\"day_of_week\": \"Monday\", \"civilian_time\": \"12 PM\", \"count\": 14}, {\"day_of_week\": \"Monday\", \"civilian_time\": \"2 PM\", \"count\": 26}, {\"day_of_week\": \"Monday\", \"civilian_time\": \"3 PM\", \"count\": 34}, {\"day_of_week\": \"Monday\", \"civilian_time\": \"4 PM\", \"count\": 27}, {\"day_of_week\": \"Monday\", \"civilian_time\": \"5 PM\", \"count\": 17}, {\"day_of_week\": \"Monday\", \"civilian_time\": \"6 PM\", \"count\": 4}, {\"day_of_week\": \"Monday\", \"civilian_time\": \"9 AM\", \"count\": 4}, {\"day_of_week\": \"Thursday\", \"civilian_time\": \"1 PM\", \"count\": 10}, {\"day_of_week\": \"Thursday\", \"civilian_time\": \"10 AM\", \"count\": 1}, {\"day_of_week\": \"Thursday\", \"civilian_time\": \"11 AM\", \"count\": 4}, {\"day_of_week\": \"Thursday\", \"civilian_time\": \"12 PM\", \"count\": 27}, {\"day_of_week\": \"Thursday\", \"civilian_time\": \"2 PM\", \"count\": 16}, {\"day_of_week\": \"Thursday\", \"civilian_time\": \"3 PM\", \"count\": 49}, {\"day_of_week\": \"Thursday\", \"civilian_time\": \"4 PM\", \"count\": 34}, {\"day_of_week\": \"Thursday\", \"civilian_time\": \"5 PM\", \"count\": 4}, {\"day_of_week\": \"Thursday\", \"civilian_time\": \"6 PM\", \"count\": 4}, {\"day_of_week\": \"Tuesday\", \"civilian_time\": \"1 PM\", \"count\": 11}, {\"day_of_week\": \"Tuesday\", \"civilian_time\": \"10 AM\", \"count\": 2}, {\"day_of_week\": \"Tuesday\", \"civilian_time\": \"11 AM\", \"count\": 2}, {\"day_of_week\": \"Tuesday\", \"civilian_time\": \"12 PM\", \"count\": 31}, {\"day_of_week\": \"Tuesday\", \"civilian_time\": \"2 PM\", \"count\": 16}, {\"day_of_week\": \"Tuesday\", \"civilian_time\": \"3 PM\", \"count\": 69}, {\"day_of_week\": \"Tuesday\", \"civilian_time\": \"4 PM\", \"count\": 58}, {\"day_of_week\": \"Tuesday\", \"civilian_time\": \"5 PM\", \"count\": 16}, {\"day_of_week\": \"Wednesday\", \"civilian_time\": \"1 PM\", \"count\": 16}, {\"day_of_week\": \"Wednesday\", \"civilian_time\": \"10 AM\", \"count\": 3}, {\"day_of_week\": \"Wednesday\", \"civilian_time\": \"11 AM\", \"count\": 2}, {\"day_of_week\": \"Wednesday\", \"civilian_time\": \"12 PM\", \"count\": 12}, {\"day_of_week\": \"Wednesday\", \"civilian_time\": \"2 PM\", \"count\": 43}, {\"day_of_week\": \"Wednesday\", \"civilian_time\": \"3 PM\", \"count\": 22}, {\"day_of_week\": \"Wednesday\", \"civilian_time\": \"4 PM\", \"count\": 19}, {\"day_of_week\": \"Wednesday\", \"civilian_time\": \"5 PM\", \"count\": 11}, {\"day_of_week\": \"Wednesday\", \"civilian_time\": \"6 PM\", \"count\": 4}, {\"day_of_week\": \"Wednesday\", \"civilian_time\": \"7 PM\", \"count\": 1}]}}, {\"mode\": \"vega-lite\"});\n",
       "</script>"
      ],
      "text/plain": [
       "alt.Chart(...)"
      ]
     },
     "metadata": {},
     "output_type": "display_data"
    }
   ],
   "source": [
    "# Generate popular times visualizations\n",
    "popular_times = popular_times_comparison(app_lab_csv_file_path, csxl_csv_file_path)\n",
    "popular_times[1].show()\n",
    "popular_times[0].show()"
   ]
  },
  {
   "cell_type": "markdown",
   "metadata": {},
   "source": [
    "## Total Time per User\n",
    "\n",
    "Now, we will look at the ten users who spent the most time in each space. These graphs were created by finding the total duration of each reservation, grouping the rows by user id, and finding the sum of all durations for each user id.\n",
    "\n",
    "The graphs display the total number of *days* each user spent in the space during the academic year. Additionally, because there were several instances where users failed to check out, there were many reservations with very high durations that skewed the data. To mitigate this, we filtered out reservations whose durations were greater than 8 hours, which we identified as the longest reasonable reservation."
   ]
  },
  {
   "cell_type": "code",
   "execution_count": 6,
   "metadata": {},
   "outputs": [
    {
     "data": {
      "text/html": [
       "\n",
       "<style>\n",
       "  #altair-viz-4ba3717d326e407daed8fdc82340afc5.vega-embed {\n",
       "    width: 100%;\n",
       "    display: flex;\n",
       "  }\n",
       "\n",
       "  #altair-viz-4ba3717d326e407daed8fdc82340afc5.vega-embed details,\n",
       "  #altair-viz-4ba3717d326e407daed8fdc82340afc5.vega-embed details summary {\n",
       "    position: relative;\n",
       "  }\n",
       "</style>\n",
       "<div id=\"altair-viz-4ba3717d326e407daed8fdc82340afc5\"></div>\n",
       "<script type=\"text/javascript\">\n",
       "  var VEGA_DEBUG = (typeof VEGA_DEBUG == \"undefined\") ? {} : VEGA_DEBUG;\n",
       "  (function(spec, embedOpt){\n",
       "    let outputDiv = document.currentScript.previousElementSibling;\n",
       "    if (outputDiv.id !== \"altair-viz-4ba3717d326e407daed8fdc82340afc5\") {\n",
       "      outputDiv = document.getElementById(\"altair-viz-4ba3717d326e407daed8fdc82340afc5\");\n",
       "    }\n",
       "    const paths = {\n",
       "      \"vega\": \"https://cdn.jsdelivr.net/npm/vega@5?noext\",\n",
       "      \"vega-lib\": \"https://cdn.jsdelivr.net/npm/vega-lib?noext\",\n",
       "      \"vega-lite\": \"https://cdn.jsdelivr.net/npm/vega-lite@5.17.0?noext\",\n",
       "      \"vega-embed\": \"https://cdn.jsdelivr.net/npm/vega-embed@6?noext\",\n",
       "    };\n",
       "\n",
       "    function maybeLoadScript(lib, version) {\n",
       "      var key = `${lib.replace(\"-\", \"\")}_version`;\n",
       "      return (VEGA_DEBUG[key] == version) ?\n",
       "        Promise.resolve(paths[lib]) :\n",
       "        new Promise(function(resolve, reject) {\n",
       "          var s = document.createElement('script');\n",
       "          document.getElementsByTagName(\"head\")[0].appendChild(s);\n",
       "          s.async = true;\n",
       "          s.onload = () => {\n",
       "            VEGA_DEBUG[key] = version;\n",
       "            return resolve(paths[lib]);\n",
       "          };\n",
       "          s.onerror = () => reject(`Error loading script: ${paths[lib]}`);\n",
       "          s.src = paths[lib];\n",
       "        });\n",
       "    }\n",
       "\n",
       "    function showError(err) {\n",
       "      outputDiv.innerHTML = `<div class=\"error\" style=\"color:red;\">${err}</div>`;\n",
       "      throw err;\n",
       "    }\n",
       "\n",
       "    function displayChart(vegaEmbed) {\n",
       "      vegaEmbed(outputDiv, spec, embedOpt)\n",
       "        .catch(err => showError(`Javascript Error: ${err.message}<br>This usually means there's a typo in your chart specification. See the javascript console for the full traceback.`));\n",
       "    }\n",
       "\n",
       "    if(typeof define === \"function\" && define.amd) {\n",
       "      requirejs.config({paths});\n",
       "      require([\"vega-embed\"], displayChart, err => showError(`Error loading script: ${err.message}`));\n",
       "    } else {\n",
       "      maybeLoadScript(\"vega\", \"5\")\n",
       "        .then(() => maybeLoadScript(\"vega-lite\", \"5.17.0\"))\n",
       "        .then(() => maybeLoadScript(\"vega-embed\", \"6\"))\n",
       "        .catch(showError)\n",
       "        .then(() => displayChart(vegaEmbed));\n",
       "    }\n",
       "  })({\"config\": {\"view\": {\"continuousWidth\": 300, \"continuousHeight\": 300}, \"mark\": {\"color\": \"#4786c6\"}}, \"data\": {\"name\": \"data-e8615d8697e7ba3e39ae0d4e4737e920\"}, \"mark\": {\"type\": \"bar\"}, \"encoding\": {\"tooltip\": {\"field\": \"total_time\", \"format\": \".2f\", \"type\": \"quantitative\"}, \"x\": {\"field\": \"total_time\", \"scale\": {\"domain\": [null, 7.075927080752315]}, \"title\": \"Total Time (Days)\", \"type\": \"quantitative\"}, \"y\": {\"field\": \"user_id\", \"sort\": \"-x\", \"title\": \"User ID\", \"type\": \"ordinal\"}}, \"title\": \"CSXL Total Time per User\", \"$schema\": \"https://vega.github.io/schema/vega-lite/v5.17.0.json\", \"datasets\": {\"data-e8615d8697e7ba3e39ae0d4e4737e920\": [{\"user_id\": 228, \"total_time\": 6.075927080752315}, {\"user_id\": 230, \"total_time\": 5.21431071318287}, {\"user_id\": 231, \"total_time\": 5.209343619513889}, {\"user_id\": 252, \"total_time\": 4.893112533761574}, {\"user_id\": 234, \"total_time\": 4.4054382540625}, {\"user_id\": 208, \"total_time\": 3.9971381790277776}, {\"user_id\": 241, \"total_time\": 3.883177694872685}, {\"user_id\": 169, \"total_time\": 3.7962748034837963}, {\"user_id\": 156, \"total_time\": 3.3488906214467593}, {\"user_id\": 450, \"total_time\": 3.0107317668402778}]}}, {\"mode\": \"vega-lite\"});\n",
       "</script>"
      ],
      "text/plain": [
       "alt.Chart(...)"
      ]
     },
     "metadata": {},
     "output_type": "display_data"
    },
    {
     "data": {
      "text/html": [
       "\n",
       "<style>\n",
       "  #altair-viz-35e41debec0d4569b7e5c1427a66129a.vega-embed {\n",
       "    width: 100%;\n",
       "    display: flex;\n",
       "  }\n",
       "\n",
       "  #altair-viz-35e41debec0d4569b7e5c1427a66129a.vega-embed details,\n",
       "  #altair-viz-35e41debec0d4569b7e5c1427a66129a.vega-embed details summary {\n",
       "    position: relative;\n",
       "  }\n",
       "</style>\n",
       "<div id=\"altair-viz-35e41debec0d4569b7e5c1427a66129a\"></div>\n",
       "<script type=\"text/javascript\">\n",
       "  var VEGA_DEBUG = (typeof VEGA_DEBUG == \"undefined\") ? {} : VEGA_DEBUG;\n",
       "  (function(spec, embedOpt){\n",
       "    let outputDiv = document.currentScript.previousElementSibling;\n",
       "    if (outputDiv.id !== \"altair-viz-35e41debec0d4569b7e5c1427a66129a\") {\n",
       "      outputDiv = document.getElementById(\"altair-viz-35e41debec0d4569b7e5c1427a66129a\");\n",
       "    }\n",
       "    const paths = {\n",
       "      \"vega\": \"https://cdn.jsdelivr.net/npm/vega@5?noext\",\n",
       "      \"vega-lib\": \"https://cdn.jsdelivr.net/npm/vega-lib?noext\",\n",
       "      \"vega-lite\": \"https://cdn.jsdelivr.net/npm/vega-lite@5.17.0?noext\",\n",
       "      \"vega-embed\": \"https://cdn.jsdelivr.net/npm/vega-embed@6?noext\",\n",
       "    };\n",
       "\n",
       "    function maybeLoadScript(lib, version) {\n",
       "      var key = `${lib.replace(\"-\", \"\")}_version`;\n",
       "      return (VEGA_DEBUG[key] == version) ?\n",
       "        Promise.resolve(paths[lib]) :\n",
       "        new Promise(function(resolve, reject) {\n",
       "          var s = document.createElement('script');\n",
       "          document.getElementsByTagName(\"head\")[0].appendChild(s);\n",
       "          s.async = true;\n",
       "          s.onload = () => {\n",
       "            VEGA_DEBUG[key] = version;\n",
       "            return resolve(paths[lib]);\n",
       "          };\n",
       "          s.onerror = () => reject(`Error loading script: ${paths[lib]}`);\n",
       "          s.src = paths[lib];\n",
       "        });\n",
       "    }\n",
       "\n",
       "    function showError(err) {\n",
       "      outputDiv.innerHTML = `<div class=\"error\" style=\"color:red;\">${err}</div>`;\n",
       "      throw err;\n",
       "    }\n",
       "\n",
       "    function displayChart(vegaEmbed) {\n",
       "      vegaEmbed(outputDiv, spec, embedOpt)\n",
       "        .catch(err => showError(`Javascript Error: ${err.message}<br>This usually means there's a typo in your chart specification. See the javascript console for the full traceback.`));\n",
       "    }\n",
       "\n",
       "    if(typeof define === \"function\" && define.amd) {\n",
       "      requirejs.config({paths});\n",
       "      require([\"vega-embed\"], displayChart, err => showError(`Error loading script: ${err.message}`));\n",
       "    } else {\n",
       "      maybeLoadScript(\"vega\", \"5\")\n",
       "        .then(() => maybeLoadScript(\"vega-lite\", \"5.17.0\"))\n",
       "        .then(() => maybeLoadScript(\"vega-embed\", \"6\"))\n",
       "        .catch(showError)\n",
       "        .then(() => displayChart(vegaEmbed));\n",
       "    }\n",
       "  })({\"config\": {\"view\": {\"continuousWidth\": 300, \"continuousHeight\": 300}, \"mark\": {\"color\": \"#4786c6\"}}, \"data\": {\"name\": \"data-5ef8e072662ac0a8c75edd70aba8a171\"}, \"mark\": {\"type\": \"bar\"}, \"encoding\": {\"tooltip\": {\"field\": \"Duration (days)\", \"type\": \"quantitative\"}, \"x\": {\"field\": \"Duration (days)\", \"scale\": {\"domain\": [null, 7.075927080752315]}, \"title\": \"Total Time (Days)\", \"type\": \"quantitative\"}, \"y\": {\"field\": \"PID\", \"sort\": \"-x\", \"title\": \"User ID\", \"type\": \"ordinal\"}}, \"title\": \"App Lab Total Time per User\", \"$schema\": \"https://vega.github.io/schema/vega-lite/v5.17.0.json\", \"datasets\": {\"data-5ef8e072662ac0a8c75edd70aba8a171\": [{\"PID\": 730325023, \"Duration (days)\": 4.511111111111111}, {\"PID\": 730399319, \"Duration (days)\": 3.8097222222222222}, {\"PID\": 730320402, \"Duration (days)\": 3.4722222222222223}, {\"PID\": 730515295, \"Duration (days)\": 3.31875}, {\"PID\": 730318278, \"Duration (days)\": 2.325}, {\"PID\": 730409430, \"Duration (days)\": 2.247916666666667}, {\"PID\": 730355643, \"Duration (days)\": 2.14375}, {\"PID\": 730367015, \"Duration (days)\": 1.8770833333333334}, {\"PID\": 730520865, \"Duration (days)\": 1.6111111111111112}, {\"PID\": 730366571, \"Duration (days)\": 1.5583333333333333}]}}, {\"mode\": \"vega-lite\"});\n",
       "</script>"
      ],
      "text/plain": [
       "alt.Chart(...)"
      ]
     },
     "metadata": {},
     "output_type": "display_data"
    }
   ],
   "source": [
    "# Generate total time per user visualizations\n",
    "\n",
    "leaderboards = leaderboard_comparison(csxl_csv_file_path, app_lab_csv_file_path)\n",
    "leaderboards[1].show()\n",
    "leaderboards[0].show()"
   ]
  },
  {
   "cell_type": "markdown",
   "metadata": {},
   "source": [
    "## Reservations by seat type\n",
    "\n",
    "Next, we'll take a look at the popularity of different seat types in the CSXL. The CSXL currently offers three kinds of seats: communal area seats, sitting desks, and sit/stand desks. This visualization shows the total number of reservations for each seat type."
   ]
  },
  {
   "cell_type": "code",
   "execution_count": 5,
   "metadata": {},
   "outputs": [
    {
     "data": {
      "text/html": [
       "\n",
       "<style>\n",
       "  #altair-viz-bdb2a4a897b04bd2854d7b7e8fac61e8.vega-embed {\n",
       "    width: 100%;\n",
       "    display: flex;\n",
       "  }\n",
       "\n",
       "  #altair-viz-bdb2a4a897b04bd2854d7b7e8fac61e8.vega-embed details,\n",
       "  #altair-viz-bdb2a4a897b04bd2854d7b7e8fac61e8.vega-embed details summary {\n",
       "    position: relative;\n",
       "  }\n",
       "</style>\n",
       "<div id=\"altair-viz-bdb2a4a897b04bd2854d7b7e8fac61e8\"></div>\n",
       "<script type=\"text/javascript\">\n",
       "  var VEGA_DEBUG = (typeof VEGA_DEBUG == \"undefined\") ? {} : VEGA_DEBUG;\n",
       "  (function(spec, embedOpt){\n",
       "    let outputDiv = document.currentScript.previousElementSibling;\n",
       "    if (outputDiv.id !== \"altair-viz-bdb2a4a897b04bd2854d7b7e8fac61e8\") {\n",
       "      outputDiv = document.getElementById(\"altair-viz-bdb2a4a897b04bd2854d7b7e8fac61e8\");\n",
       "    }\n",
       "    const paths = {\n",
       "      \"vega\": \"https://cdn.jsdelivr.net/npm/vega@5?noext\",\n",
       "      \"vega-lib\": \"https://cdn.jsdelivr.net/npm/vega-lib?noext\",\n",
       "      \"vega-lite\": \"https://cdn.jsdelivr.net/npm/vega-lite@5.17.0?noext\",\n",
       "      \"vega-embed\": \"https://cdn.jsdelivr.net/npm/vega-embed@6?noext\",\n",
       "    };\n",
       "\n",
       "    function maybeLoadScript(lib, version) {\n",
       "      var key = `${lib.replace(\"-\", \"\")}_version`;\n",
       "      return (VEGA_DEBUG[key] == version) ?\n",
       "        Promise.resolve(paths[lib]) :\n",
       "        new Promise(function(resolve, reject) {\n",
       "          var s = document.createElement('script');\n",
       "          document.getElementsByTagName(\"head\")[0].appendChild(s);\n",
       "          s.async = true;\n",
       "          s.onload = () => {\n",
       "            VEGA_DEBUG[key] = version;\n",
       "            return resolve(paths[lib]);\n",
       "          };\n",
       "          s.onerror = () => reject(`Error loading script: ${paths[lib]}`);\n",
       "          s.src = paths[lib];\n",
       "        });\n",
       "    }\n",
       "\n",
       "    function showError(err) {\n",
       "      outputDiv.innerHTML = `<div class=\"error\" style=\"color:red;\">${err}</div>`;\n",
       "      throw err;\n",
       "    }\n",
       "\n",
       "    function displayChart(vegaEmbed) {\n",
       "      vegaEmbed(outputDiv, spec, embedOpt)\n",
       "        .catch(err => showError(`Javascript Error: ${err.message}<br>This usually means there's a typo in your chart specification. See the javascript console for the full traceback.`));\n",
       "    }\n",
       "\n",
       "    if(typeof define === \"function\" && define.amd) {\n",
       "      requirejs.config({paths});\n",
       "      require([\"vega-embed\"], displayChart, err => showError(`Error loading script: ${err.message}`));\n",
       "    } else {\n",
       "      maybeLoadScript(\"vega\", \"5\")\n",
       "        .then(() => maybeLoadScript(\"vega-lite\", \"5.17.0\"))\n",
       "        .then(() => maybeLoadScript(\"vega-embed\", \"6\"))\n",
       "        .catch(showError)\n",
       "        .then(() => displayChart(vegaEmbed));\n",
       "    }\n",
       "  })({\"config\": {\"view\": {\"continuousWidth\": 300, \"continuousHeight\": 300}, \"mark\": {\"color\": \"#4786c6\"}}, \"data\": {\"name\": \"data-f3b25b1381aabbbee1a5eaef10e63d32\"}, \"mark\": {\"type\": \"bar\"}, \"encoding\": {\"tooltip\": [{\"field\": \"count\", \"type\": \"quantitative\"}], \"x\": {\"field\": \"count\", \"title\": null, \"type\": \"quantitative\"}, \"y\": {\"field\": \"title\", \"title\": \"Seat Type\", \"type\": \"nominal\"}}, \"height\": 150, \"title\": \"CSXL Reservations by Seat Type\", \"$schema\": \"https://vega.github.io/schema/vega-lite/v5.17.0.json\", \"datasets\": {\"data-f3b25b1381aabbbee1a5eaef10e63d32\": [{\"title\": \"Communal Area Seat\", \"count\": 1506}, {\"title\": \"Sitting Desk with Monitor\", \"count\": 2854}, {\"title\": \"Standing Desk with Monitor\", \"count\": 874}]}}, {\"mode\": \"vega-lite\"});\n",
       "</script>"
      ],
      "text/plain": [
       "alt.Chart(...)"
      ]
     },
     "metadata": {},
     "output_type": "display_data"
    }
   ],
   "source": [
    "# Generate reservations by seat type visualization\n",
    "reservations_by_seat_type(csxl_csv_file_path).show()"
   ]
  }
 ],
 "metadata": {
  "kernelspec": {
   "display_name": "Python 3",
   "language": "python",
   "name": "python3"
  },
  "language_info": {
   "codemirror_mode": {
    "name": "ipython",
    "version": 3
   },
   "file_extension": ".py",
   "mimetype": "text/x-python",
   "name": "python",
   "nbconvert_exporter": "python",
   "pygments_lexer": "ipython3",
   "version": "3.10.1"
  }
 },
 "nbformat": 4,
 "nbformat_minor": 2
}
