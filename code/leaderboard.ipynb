{
 "cells": [
  {
   "cell_type": "code",
   "execution_count": 1,
   "metadata": {},
   "outputs": [],
   "source": [
    "import pandas as pd\n",
    "data = pd.read_csv(\"csxl_data.csv\")"
   ]
  },
  {
   "cell_type": "code",
   "execution_count": 2,
   "metadata": {},
   "outputs": [],
   "source": [
    "data['start'] = pd.to_datetime(data['start'])\n",
    "data['end'] = pd.to_datetime(data['end'])\n",
    "\n",
    "# Convert reservation_length from seconds into days\n",
    "data['reservation_length'] = (data['end'] - data['start']).dt.total_seconds() / 3600 / 24\n",
    "\n",
    "# Filter out reservations that are way too long (for ex, start and end a month apart – looking at you, user 385)\n",
    "# TODO: Confirm threshold for reservation length\n",
    "filtered_data = data[data['reservation_length'] < 5]\n",
    "\n",
    "# Find the total amount of time each user spent in the XL (according to reservations)\n",
    "total_user_reservation_times = filtered_data.groupby('user_id')['reservation_length'].sum().reset_index()\n",
    "\n",
    "total_user_reservation_times.columns = ['user_id', 'total_time']"
   ]
  },
  {
   "cell_type": "code",
   "execution_count": 3,
   "metadata": {},
   "outputs": [],
   "source": [
    "import altair as alt"
   ]
  },
  {
   "cell_type": "code",
   "execution_count": 4,
   "metadata": {},
   "outputs": [
    {
     "data": {
      "text/html": [
       "\n",
       "<style>\n",
       "  #altair-viz-1b6264a4828b433dbf11eaefefb00330.vega-embed {\n",
       "    width: 100%;\n",
       "    display: flex;\n",
       "  }\n",
       "\n",
       "  #altair-viz-1b6264a4828b433dbf11eaefefb00330.vega-embed details,\n",
       "  #altair-viz-1b6264a4828b433dbf11eaefefb00330.vega-embed details summary {\n",
       "    position: relative;\n",
       "  }\n",
       "</style>\n",
       "<div id=\"altair-viz-1b6264a4828b433dbf11eaefefb00330\"></div>\n",
       "<script type=\"text/javascript\">\n",
       "  var VEGA_DEBUG = (typeof VEGA_DEBUG == \"undefined\") ? {} : VEGA_DEBUG;\n",
       "  (function(spec, embedOpt){\n",
       "    let outputDiv = document.currentScript.previousElementSibling;\n",
       "    if (outputDiv.id !== \"altair-viz-1b6264a4828b433dbf11eaefefb00330\") {\n",
       "      outputDiv = document.getElementById(\"altair-viz-1b6264a4828b433dbf11eaefefb00330\");\n",
       "    }\n",
       "    const paths = {\n",
       "      \"vega\": \"https://cdn.jsdelivr.net/npm/vega@5?noext\",\n",
       "      \"vega-lib\": \"https://cdn.jsdelivr.net/npm/vega-lib?noext\",\n",
       "      \"vega-lite\": \"https://cdn.jsdelivr.net/npm/vega-lite@5.17.0?noext\",\n",
       "      \"vega-embed\": \"https://cdn.jsdelivr.net/npm/vega-embed@6?noext\",\n",
       "    };\n",
       "\n",
       "    function maybeLoadScript(lib, version) {\n",
       "      var key = `${lib.replace(\"-\", \"\")}_version`;\n",
       "      return (VEGA_DEBUG[key] == version) ?\n",
       "        Promise.resolve(paths[lib]) :\n",
       "        new Promise(function(resolve, reject) {\n",
       "          var s = document.createElement('script');\n",
       "          document.getElementsByTagName(\"head\")[0].appendChild(s);\n",
       "          s.async = true;\n",
       "          s.onload = () => {\n",
       "            VEGA_DEBUG[key] = version;\n",
       "            return resolve(paths[lib]);\n",
       "          };\n",
       "          s.onerror = () => reject(`Error loading script: ${paths[lib]}`);\n",
       "          s.src = paths[lib];\n",
       "        });\n",
       "    }\n",
       "\n",
       "    function showError(err) {\n",
       "      outputDiv.innerHTML = `<div class=\"error\" style=\"color:red;\">${err}</div>`;\n",
       "      throw err;\n",
       "    }\n",
       "\n",
       "    function displayChart(vegaEmbed) {\n",
       "      vegaEmbed(outputDiv, spec, embedOpt)\n",
       "        .catch(err => showError(`Javascript Error: ${err.message}<br>This usually means there's a typo in your chart specification. See the javascript console for the full traceback.`));\n",
       "    }\n",
       "\n",
       "    if(typeof define === \"function\" && define.amd) {\n",
       "      requirejs.config({paths});\n",
       "      require([\"vega-embed\"], displayChart, err => showError(`Error loading script: ${err.message}`));\n",
       "    } else {\n",
       "      maybeLoadScript(\"vega\", \"5\")\n",
       "        .then(() => maybeLoadScript(\"vega-lite\", \"5.17.0\"))\n",
       "        .then(() => maybeLoadScript(\"vega-embed\", \"6\"))\n",
       "        .catch(showError)\n",
       "        .then(() => displayChart(vegaEmbed));\n",
       "    }\n",
       "  })({\"config\": {\"view\": {\"continuousWidth\": 300, \"continuousHeight\": 300}}, \"data\": {\"name\": \"data-37b9b49c3e8be2f7df0e9008e654da52\"}, \"mark\": {\"type\": \"bar\"}, \"encoding\": {\"tooltip\": {\"field\": \"total_time\", \"format\": \".2f\", \"type\": \"quantitative\"}, \"x\": {\"field\": \"total_time\", \"title\": \"Total Time (Days)\", \"type\": \"quantitative\"}, \"y\": {\"field\": \"user_id\", \"sort\": \"-x\", \"title\": \"User ID\", \"type\": \"ordinal\"}}, \"title\": \"Total Time per User\", \"$schema\": \"https://vega.github.io/schema/vega-lite/v5.17.0.json\", \"datasets\": {\"data-37b9b49c3e8be2f7df0e9008e654da52\": [{\"user_id\": \"\\ud83e\\udd47 218\", \"total_time\": 20.69670517082176}, {\"user_id\": \"\\ud83e\\udd48 169\", \"total_time\": 20.064530676967593}, {\"user_id\": \"\\ud83e\\udd49 250\", \"total_time\": 16.44247620681713}, {\"user_id\": 219, \"total_time\": 11.465040709317131}, {\"user_id\": 228, \"total_time\": 10.92069080101852}, {\"user_id\": 285, \"total_time\": 10.529457759305556}, {\"user_id\": 211, \"total_time\": 6.9199427348495375}, {\"user_id\": 265, \"total_time\": 6.080098999930557}, {\"user_id\": 220, \"total_time\": 5.951261653564815}, {\"user_id\": 17, \"total_time\": 5.890933390208334}]}}, {\"mode\": \"vega-lite\"});\n",
       "</script>"
      ],
      "text/plain": [
       "alt.Chart(...)"
      ]
     },
     "metadata": {},
     "output_type": "display_data"
    }
   ],
   "source": [
    "top_10_users = total_user_reservation_times.sort_values(by='total_time', ascending=False).head(10)\n",
    "\n",
    "# Note: Used ChatGPT to help add the medals\n",
    "top_10_users['user_id'].iloc[0] = \"🥇 \" + str(top_10_users['user_id'].iloc[0])\n",
    "top_10_users['user_id'].iloc[1] = \"🥈 \" + str(top_10_users['user_id'].iloc[1])\n",
    "top_10_users['user_id'].iloc[2] = \"🥉 \" + str(top_10_users['user_id'].iloc[2])\n",
    "\n",
    "# Create a horizontal bar chart leaderboard (filtering out reservations > 5 hours long)\n",
    "chart = alt.Chart(top_10_users).mark_bar().encode(\n",
    "    y=alt.Y('user_id:O', title='User ID', sort='-x'),\n",
    "    x=alt.X('total_time:Q', title='Total Time (Days)'),\n",
    "    tooltip=alt.Tooltip('total_time:Q', format='.2f')\n",
    ").properties(\n",
    "    title='Total Time per User'\n",
    ")\n",
    "\n",
    "chart.show()"
   ]
  }
 ],
 "metadata": {
  "kernelspec": {
   "display_name": "Python 3",
   "language": "python",
   "name": "python3"
  },
  "language_info": {
   "codemirror_mode": {
    "name": "ipython",
    "version": 3
   },
   "file_extension": ".py",
   "mimetype": "text/x-python",
   "name": "python",
   "nbconvert_exporter": "python",
   "pygments_lexer": "ipython3",
   "version": "3.10.1"
  }
 },
 "nbformat": 4,
 "nbformat_minor": 2
}
