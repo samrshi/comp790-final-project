{
 "cells": [
  {
   "cell_type": "code",
   "execution_count": 1,
   "metadata": {},
   "outputs": [],
   "source": [
    "import pandas as pd\n",
    "xl_data = pd.read_csv(\"csxl_data.csv\")\n",
    "app_lab_data = pd.read_csv(\"app-lab-data.csv\")"
   ]
  },
  {
   "cell_type": "code",
   "execution_count": null,
   "metadata": {},
   "outputs": [],
   "source": [
    "# Convert string to TimeDelta Object.\n",
    "data['date'] = pd.to_datetime(data['date'])\n",
    "\n",
    "data['timeIn'] = pd.to_timedelta(data['timeIn'])\n",
    "\n",
    "data['start'] = data['date'] + data['timeIn']\n",
    "\n",
    "data['day_of_week'] = data['start'].dt.day_name()\n",
    "\n",
    "data['civilian_time'] = data['start'].dt.strftime(\"%I %p\").str.lstrip(\"0\")\n",
    "\n",
    "reservations_per_hour = data.groupby([\"day_of_week\", \"civilian_time\"]).size().reset_index(name=\"count\")\n",
    "\n",
    "reservations_per_hour.head(5)"
   ]
  }
 ],
 "metadata": {
  "kernelspec": {
   "display_name": "Python 3",
   "language": "python",
   "name": "python3"
  },
  "language_info": {
   "codemirror_mode": {
    "name": "ipython",
    "version": 3
   },
   "file_extension": ".py",
   "mimetype": "text/x-python",
   "name": "python",
   "nbconvert_exporter": "python",
   "pygments_lexer": "ipython3",
   "version": "3.10.1"
  }
 },
 "nbformat": 4,
 "nbformat_minor": 2
}
