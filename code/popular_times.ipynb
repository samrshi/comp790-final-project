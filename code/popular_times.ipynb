{
 "cells": [
  {
   "cell_type": "code",
   "execution_count": 1,
   "metadata": {},
   "outputs": [],
   "source": [
    "import pandas as pd\n",
    "data = pd.read_csv(\"csxl_data.csv\")"
   ]
  },
  {
   "cell_type": "code",
   "execution_count": 2,
   "metadata": {},
   "outputs": [],
   "source": [
    "import altair as alt"
   ]
  },
  {
   "cell_type": "code",
   "execution_count": 6,
   "metadata": {},
   "outputs": [
    {
     "data": {
      "text/html": [
       "\n",
       "<style>\n",
       "  #altair-viz-a9cf47ae2e9d481ca42441f5ffb9dc8b.vega-embed {\n",
       "    width: 100%;\n",
       "    display: flex;\n",
       "  }\n",
       "\n",
       "  #altair-viz-a9cf47ae2e9d481ca42441f5ffb9dc8b.vega-embed details,\n",
       "  #altair-viz-a9cf47ae2e9d481ca42441f5ffb9dc8b.vega-embed details summary {\n",
       "    position: relative;\n",
       "  }\n",
       "</style>\n",
       "<div id=\"altair-viz-a9cf47ae2e9d481ca42441f5ffb9dc8b\"></div>\n",
       "<script type=\"text/javascript\">\n",
       "  var VEGA_DEBUG = (typeof VEGA_DEBUG == \"undefined\") ? {} : VEGA_DEBUG;\n",
       "  (function(spec, embedOpt){\n",
       "    let outputDiv = document.currentScript.previousElementSibling;\n",
       "    if (outputDiv.id !== \"altair-viz-a9cf47ae2e9d481ca42441f5ffb9dc8b\") {\n",
       "      outputDiv = document.getElementById(\"altair-viz-a9cf47ae2e9d481ca42441f5ffb9dc8b\");\n",
       "    }\n",
       "    const paths = {\n",
       "      \"vega\": \"https://cdn.jsdelivr.net/npm/vega@5?noext\",\n",
       "      \"vega-lib\": \"https://cdn.jsdelivr.net/npm/vega-lib?noext\",\n",
       "      \"vega-lite\": \"https://cdn.jsdelivr.net/npm/vega-lite@5.17.0?noext\",\n",
       "      \"vega-embed\": \"https://cdn.jsdelivr.net/npm/vega-embed@6?noext\",\n",
       "    };\n",
       "\n",
       "    function maybeLoadScript(lib, version) {\n",
       "      var key = `${lib.replace(\"-\", \"\")}_version`;\n",
       "      return (VEGA_DEBUG[key] == version) ?\n",
       "        Promise.resolve(paths[lib]) :\n",
       "        new Promise(function(resolve, reject) {\n",
       "          var s = document.createElement('script');\n",
       "          document.getElementsByTagName(\"head\")[0].appendChild(s);\n",
       "          s.async = true;\n",
       "          s.onload = () => {\n",
       "            VEGA_DEBUG[key] = version;\n",
       "            return resolve(paths[lib]);\n",
       "          };\n",
       "          s.onerror = () => reject(`Error loading script: ${paths[lib]}`);\n",
       "          s.src = paths[lib];\n",
       "        });\n",
       "    }\n",
       "\n",
       "    function showError(err) {\n",
       "      outputDiv.innerHTML = `<div class=\"error\" style=\"color:red;\">${err}</div>`;\n",
       "      throw err;\n",
       "    }\n",
       "\n",
       "    function displayChart(vegaEmbed) {\n",
       "      vegaEmbed(outputDiv, spec, embedOpt)\n",
       "        .catch(err => showError(`Javascript Error: ${err.message}<br>This usually means there's a typo in your chart specification. See the javascript console for the full traceback.`));\n",
       "    }\n",
       "\n",
       "    if(typeof define === \"function\" && define.amd) {\n",
       "      requirejs.config({paths});\n",
       "      require([\"vega-embed\"], displayChart, err => showError(`Error loading script: ${err.message}`));\n",
       "    } else {\n",
       "      maybeLoadScript(\"vega\", \"5\")\n",
       "        .then(() => maybeLoadScript(\"vega-lite\", \"5.17.0\"))\n",
       "        .then(() => maybeLoadScript(\"vega-embed\", \"6\"))\n",
       "        .catch(showError)\n",
       "        .then(() => displayChart(vegaEmbed));\n",
       "    }\n",
       "  })({\"config\": {\"view\": {\"continuousWidth\": 300, \"continuousHeight\": 300}, \"axisY\": {\"grid\": false, \"labels\": false}}, \"data\": {\"name\": \"data-652dbae7ba14bfd7e10d7defb0231241\"}, \"mark\": {\"type\": \"bar\"}, \"encoding\": {\"column\": {\"field\": \"day_of_week\", \"sort\": [\"Monday\", \"Tuesday\", \"Wednesday\", \"Thursday\", \"Friday\"], \"title\": null, \"type\": \"nominal\"}, \"x\": {\"field\": \"civilian_time\", \"sort\": [\"10 AM\", \"11 AM\", \"12 PM\", \"1 PM\", \"2 PM\", \"3 PM\", \"4 PM\", \"5 PM\"], \"title\": \"Hour of the Day\", \"type\": \"nominal\"}, \"y\": {\"field\": \"count\", \"title\": null, \"type\": \"quantitative\"}}, \"height\": 150, \"title\": \"Popular Times in the CSXL\", \"$schema\": \"https://vega.github.io/schema/vega-lite/v5.17.0.json\", \"datasets\": {\"data-652dbae7ba14bfd7e10d7defb0231241\": [{\"day_of_week\": \"Friday\", \"civilian_time\": \"1 PM\", \"count\": 110}, {\"day_of_week\": \"Friday\", \"civilian_time\": \"10 AM\", \"count\": 85}, {\"day_of_week\": \"Friday\", \"civilian_time\": \"11 AM\", \"count\": 53}, {\"day_of_week\": \"Friday\", \"civilian_time\": \"12 PM\", \"count\": 90}, {\"day_of_week\": \"Friday\", \"civilian_time\": \"2 PM\", \"count\": 157}, {\"day_of_week\": \"Friday\", \"civilian_time\": \"3 PM\", \"count\": 94}, {\"day_of_week\": \"Friday\", \"civilian_time\": \"4 PM\", \"count\": 69}, {\"day_of_week\": \"Friday\", \"civilian_time\": \"5 PM\", \"count\": 29}, {\"day_of_week\": \"Monday\", \"civilian_time\": \"1 PM\", \"count\": 153}, {\"day_of_week\": \"Monday\", \"civilian_time\": \"10 AM\", \"count\": 100}, {\"day_of_week\": \"Monday\", \"civilian_time\": \"11 AM\", \"count\": 88}, {\"day_of_week\": \"Monday\", \"civilian_time\": \"12 PM\", \"count\": 149}, {\"day_of_week\": \"Monday\", \"civilian_time\": \"2 PM\", \"count\": 209}, {\"day_of_week\": \"Monday\", \"civilian_time\": \"3 PM\", \"count\": 200}, {\"day_of_week\": \"Monday\", \"civilian_time\": \"4 PM\", \"count\": 120}, {\"day_of_week\": \"Monday\", \"civilian_time\": \"5 PM\", \"count\": 56}, {\"day_of_week\": \"Thursday\", \"civilian_time\": \"1 PM\", \"count\": 188}, {\"day_of_week\": \"Thursday\", \"civilian_time\": \"10 AM\", \"count\": 113}, {\"day_of_week\": \"Thursday\", \"civilian_time\": \"11 AM\", \"count\": 94}, {\"day_of_week\": \"Thursday\", \"civilian_time\": \"12 PM\", \"count\": 166}, {\"day_of_week\": \"Thursday\", \"civilian_time\": \"2 PM\", \"count\": 121}, {\"day_of_week\": \"Thursday\", \"civilian_time\": \"3 PM\", \"count\": 215}, {\"day_of_week\": \"Thursday\", \"civilian_time\": \"4 PM\", \"count\": 129}, {\"day_of_week\": \"Thursday\", \"civilian_time\": \"5 PM\", \"count\": 66}, {\"day_of_week\": \"Tuesday\", \"civilian_time\": \"1 PM\", \"count\": 175}, {\"day_of_week\": \"Tuesday\", \"civilian_time\": \"10 AM\", \"count\": 113}, {\"day_of_week\": \"Tuesday\", \"civilian_time\": \"11 AM\", \"count\": 103}, {\"day_of_week\": \"Tuesday\", \"civilian_time\": \"12 PM\", \"count\": 227}, {\"day_of_week\": \"Tuesday\", \"civilian_time\": \"2 PM\", \"count\": 127}, {\"day_of_week\": \"Tuesday\", \"civilian_time\": \"3 PM\", \"count\": 235}, {\"day_of_week\": \"Tuesday\", \"civilian_time\": \"4 PM\", \"count\": 139}, {\"day_of_week\": \"Tuesday\", \"civilian_time\": \"5 PM\", \"count\": 67}, {\"day_of_week\": \"Wednesday\", \"civilian_time\": \"1 PM\", \"count\": 189}, {\"day_of_week\": \"Wednesday\", \"civilian_time\": \"10 AM\", \"count\": 103}, {\"day_of_week\": \"Wednesday\", \"civilian_time\": \"11 AM\", \"count\": 78}, {\"day_of_week\": \"Wednesday\", \"civilian_time\": \"12 PM\", \"count\": 211}, {\"day_of_week\": \"Wednesday\", \"civilian_time\": \"2 PM\", \"count\": 244}, {\"day_of_week\": \"Wednesday\", \"civilian_time\": \"3 PM\", \"count\": 174}, {\"day_of_week\": \"Wednesday\", \"civilian_time\": \"4 PM\", \"count\": 120}, {\"day_of_week\": \"Wednesday\", \"civilian_time\": \"5 PM\", \"count\": 75}]}}, {\"mode\": \"vega-lite\"});\n",
       "</script>"
      ],
      "text/plain": [
       "alt.Chart(...)"
      ]
     },
     "metadata": {},
     "output_type": "display_data"
    }
   ],
   "source": [
    "data['start'] = pd.to_datetime(data['start'])\n",
    "\n",
    "# Get the day of the week\n",
    "data['day_of_week'] = data['start'].dt.day_name()\n",
    "\n",
    "# Get the hour of the day in non-military time (also remove leading 0s, for example, 01pm -> 1pm)\n",
    "data['civilian_time'] = data['start'].dt.strftime('%I %p').str.lstrip(\"0\")\n",
    "\n",
    "# Group reservations by the day of the week + hour of the day + count the number of different reservations\n",
    "reservations_per_hour = data.groupby(['day_of_week', 'civilian_time']).size().reset_index(name='count')\n",
    "\n",
    "chart = alt.Chart(reservations_per_hour).mark_bar().encode(\n",
    "    x=alt.X('civilian_time:N', title='Hour of the Day', sort=['10 AM', '11 AM', '12 PM', '1 PM', '2 PM', '3 PM', '4 PM', '5 PM']),\n",
    "    y=alt.Y('count:Q', title=None),\n",
    "    # NOTE: Saturday and Sunday are not currently included (no reservations on weekends?)\n",
    "    column=alt.Column('day_of_week:N', title=None, sort=['Monday', 'Tuesday', 'Wednesday', 'Thursday', 'Friday'])\n",
    ").properties(\n",
    "    height=150,\n",
    "    title='Popular Times in the CSXL'\n",
    ").configure_axisY(\n",
    "    labels=False,\n",
    "    grid=False\n",
    ")\n",
    "\n",
    "chart.show()"
   ]
  }
 ],
 "metadata": {
  "kernelspec": {
   "display_name": "Python 3",
   "language": "python",
   "name": "python3"
  },
  "language_info": {
   "codemirror_mode": {
    "name": "ipython",
    "version": 3
   },
   "file_extension": ".py",
   "mimetype": "text/x-python",
   "name": "python",
   "nbconvert_exporter": "python",
   "pygments_lexer": "ipython3",
   "version": "3.10.1"
  }
 },
 "nbformat": 4,
 "nbformat_minor": 2
}
