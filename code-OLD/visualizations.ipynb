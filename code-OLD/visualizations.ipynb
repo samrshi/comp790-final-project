{
 "cells": [
  {
   "cell_type": "markdown",
   "metadata": {},
   "source": [
    "# CSXL & App Lab Space Utilization Visualizations"
   ]
  },
  {
   "cell_type": "markdown",
   "metadata": {},
   "source": [
    "### Configuration\n",
    "\n",
    "Here, we do our configuration and intialization steps.\n",
    "\n",
    "First, we import the Python file that contains the code to generate the visualizations. Then, we set the relative paths to the CSXL and App Lab csvs. To regenerate with new data, clone the repository and change the paths to point to your new data."
   ]
  },
  {
   "cell_type": "code",
   "execution_count": 1,
   "metadata": {},
   "outputs": [],
   "source": [
    "# Import visualization generation scripts\n",
    "from altair_scripts import *\n",
    "\n",
    "# Set paths to CSV files\n",
    "app_lab_csv_file_path: str = \"app-lab-data.csv\"\n",
    "csxl_csv_file_path: str = \"csxl_data.csv\""
   ]
  },
  {
   "cell_type": "code",
   "execution_count": 3,
   "metadata": {},
   "outputs": [
    {
     "ename": "FileNotFoundError",
     "evalue": "[Errno 2] No such file or directory: 'app-lab-data.csv'",
     "output_type": "error",
     "traceback": [
      "\u001b[0;31m---------------------------------------------------------------------------\u001b[0m",
      "\u001b[0;31mFileNotFoundError\u001b[0m                         Traceback (most recent call last)",
      "Cell \u001b[0;32mIn[3], line 2\u001b[0m\n\u001b[1;32m      1\u001b[0m \u001b[38;5;66;03m# Generate total time per user visualizations\u001b[39;00m\n\u001b[0;32m----> 2\u001b[0m \u001b[43mapp_lab_leaderboard\u001b[49m\u001b[43m(\u001b[49m\u001b[43mapp_lab_csv_file_path\u001b[49m\u001b[43m)\u001b[49m\u001b[38;5;241m.\u001b[39mshow()\n\u001b[1;32m      3\u001b[0m csxl_leaderboard(csxl_csv_file_path)\u001b[38;5;241m.\u001b[39mshow()\n",
      "File \u001b[0;32m~/Desktop/comp 790 (infovis)/final-project/repository/code-OLD/altair_scripts.py:55\u001b[0m, in \u001b[0;36mapp_lab_leaderboard\u001b[0;34m(csv_file_path)\u001b[0m\n\u001b[1;32m     45\u001b[0m \u001b[38;5;28;01mdef\u001b[39;00m \u001b[38;5;21mapp_lab_leaderboard\u001b[39m(csv_file_path: \u001b[38;5;28mstr\u001b[39m) \u001b[38;5;241m-\u001b[39m\u001b[38;5;241m>\u001b[39m alt\u001b[38;5;241m.\u001b[39mChart:\n\u001b[1;32m     46\u001b[0m \u001b[38;5;250m    \u001b[39m\u001b[38;5;124;03m\"\"\"\u001b[39;00m\n\u001b[1;32m     47\u001b[0m \u001b[38;5;124;03m    Generate a leaderboard (horizontal bar chart) showing the total time spent in the App Lab for the top 10 users.\u001b[39;00m\n\u001b[1;32m     48\u001b[0m \n\u001b[0;32m   (...)\u001b[0m\n\u001b[1;32m     53\u001b[0m \u001b[38;5;124;03m        alt.Chart: An Altair chart object representing the leaderboard.\u001b[39;00m\n\u001b[1;32m     54\u001b[0m \u001b[38;5;124;03m    \"\"\"\u001b[39;00m\n\u001b[0;32m---> 55\u001b[0m     data \u001b[38;5;241m=\u001b[39m \u001b[43mpd\u001b[49m\u001b[38;5;241;43m.\u001b[39;49m\u001b[43mread_csv\u001b[49m\u001b[43m(\u001b[49m\u001b[43mcsv_file_path\u001b[49m\u001b[43m)\u001b[49m\n\u001b[1;32m     57\u001b[0m     \u001b[38;5;66;03m# Create convert duration to number of days per reservation\u001b[39;00m\n\u001b[1;32m     58\u001b[0m     data[\u001b[38;5;124m'\u001b[39m\u001b[38;5;124mDuration (days)\u001b[39m\u001b[38;5;124m'\u001b[39m] \u001b[38;5;241m=\u001b[39m pd\u001b[38;5;241m.\u001b[39mto_timedelta(data[\u001b[38;5;124m'\u001b[39m\u001b[38;5;124mDuration\u001b[39m\u001b[38;5;124m'\u001b[39m])\u001b[38;5;241m.\u001b[39mdt\u001b[38;5;241m.\u001b[39mtotal_seconds() \u001b[38;5;241m/\u001b[39m (\u001b[38;5;241m24\u001b[39m \u001b[38;5;241m*\u001b[39m \u001b[38;5;241m60\u001b[39m \u001b[38;5;241m*\u001b[39m \u001b[38;5;241m60\u001b[39m) \n",
      "File \u001b[0;32m/opt/homebrew/lib/python3.12/site-packages/pandas/io/parsers/readers.py:1026\u001b[0m, in \u001b[0;36mread_csv\u001b[0;34m(filepath_or_buffer, sep, delimiter, header, names, index_col, usecols, dtype, engine, converters, true_values, false_values, skipinitialspace, skiprows, skipfooter, nrows, na_values, keep_default_na, na_filter, verbose, skip_blank_lines, parse_dates, infer_datetime_format, keep_date_col, date_parser, date_format, dayfirst, cache_dates, iterator, chunksize, compression, thousands, decimal, lineterminator, quotechar, quoting, doublequote, escapechar, comment, encoding, encoding_errors, dialect, on_bad_lines, delim_whitespace, low_memory, memory_map, float_precision, storage_options, dtype_backend)\u001b[0m\n\u001b[1;32m   1013\u001b[0m kwds_defaults \u001b[38;5;241m=\u001b[39m _refine_defaults_read(\n\u001b[1;32m   1014\u001b[0m     dialect,\n\u001b[1;32m   1015\u001b[0m     delimiter,\n\u001b[0;32m   (...)\u001b[0m\n\u001b[1;32m   1022\u001b[0m     dtype_backend\u001b[38;5;241m=\u001b[39mdtype_backend,\n\u001b[1;32m   1023\u001b[0m )\n\u001b[1;32m   1024\u001b[0m kwds\u001b[38;5;241m.\u001b[39mupdate(kwds_defaults)\n\u001b[0;32m-> 1026\u001b[0m \u001b[38;5;28;01mreturn\u001b[39;00m \u001b[43m_read\u001b[49m\u001b[43m(\u001b[49m\u001b[43mfilepath_or_buffer\u001b[49m\u001b[43m,\u001b[49m\u001b[43m \u001b[49m\u001b[43mkwds\u001b[49m\u001b[43m)\u001b[49m\n",
      "File \u001b[0;32m/opt/homebrew/lib/python3.12/site-packages/pandas/io/parsers/readers.py:620\u001b[0m, in \u001b[0;36m_read\u001b[0;34m(filepath_or_buffer, kwds)\u001b[0m\n\u001b[1;32m    617\u001b[0m _validate_names(kwds\u001b[38;5;241m.\u001b[39mget(\u001b[38;5;124m\"\u001b[39m\u001b[38;5;124mnames\u001b[39m\u001b[38;5;124m\"\u001b[39m, \u001b[38;5;28;01mNone\u001b[39;00m))\n\u001b[1;32m    619\u001b[0m \u001b[38;5;66;03m# Create the parser.\u001b[39;00m\n\u001b[0;32m--> 620\u001b[0m parser \u001b[38;5;241m=\u001b[39m \u001b[43mTextFileReader\u001b[49m\u001b[43m(\u001b[49m\u001b[43mfilepath_or_buffer\u001b[49m\u001b[43m,\u001b[49m\u001b[43m \u001b[49m\u001b[38;5;241;43m*\u001b[39;49m\u001b[38;5;241;43m*\u001b[39;49m\u001b[43mkwds\u001b[49m\u001b[43m)\u001b[49m\n\u001b[1;32m    622\u001b[0m \u001b[38;5;28;01mif\u001b[39;00m chunksize \u001b[38;5;129;01mor\u001b[39;00m iterator:\n\u001b[1;32m    623\u001b[0m     \u001b[38;5;28;01mreturn\u001b[39;00m parser\n",
      "File \u001b[0;32m/opt/homebrew/lib/python3.12/site-packages/pandas/io/parsers/readers.py:1620\u001b[0m, in \u001b[0;36mTextFileReader.__init__\u001b[0;34m(self, f, engine, **kwds)\u001b[0m\n\u001b[1;32m   1617\u001b[0m     \u001b[38;5;28mself\u001b[39m\u001b[38;5;241m.\u001b[39moptions[\u001b[38;5;124m\"\u001b[39m\u001b[38;5;124mhas_index_names\u001b[39m\u001b[38;5;124m\"\u001b[39m] \u001b[38;5;241m=\u001b[39m kwds[\u001b[38;5;124m\"\u001b[39m\u001b[38;5;124mhas_index_names\u001b[39m\u001b[38;5;124m\"\u001b[39m]\n\u001b[1;32m   1619\u001b[0m \u001b[38;5;28mself\u001b[39m\u001b[38;5;241m.\u001b[39mhandles: IOHandles \u001b[38;5;241m|\u001b[39m \u001b[38;5;28;01mNone\u001b[39;00m \u001b[38;5;241m=\u001b[39m \u001b[38;5;28;01mNone\u001b[39;00m\n\u001b[0;32m-> 1620\u001b[0m \u001b[38;5;28mself\u001b[39m\u001b[38;5;241m.\u001b[39m_engine \u001b[38;5;241m=\u001b[39m \u001b[38;5;28;43mself\u001b[39;49m\u001b[38;5;241;43m.\u001b[39;49m\u001b[43m_make_engine\u001b[49m\u001b[43m(\u001b[49m\u001b[43mf\u001b[49m\u001b[43m,\u001b[49m\u001b[43m \u001b[49m\u001b[38;5;28;43mself\u001b[39;49m\u001b[38;5;241;43m.\u001b[39;49m\u001b[43mengine\u001b[49m\u001b[43m)\u001b[49m\n",
      "File \u001b[0;32m/opt/homebrew/lib/python3.12/site-packages/pandas/io/parsers/readers.py:1880\u001b[0m, in \u001b[0;36mTextFileReader._make_engine\u001b[0;34m(self, f, engine)\u001b[0m\n\u001b[1;32m   1878\u001b[0m     \u001b[38;5;28;01mif\u001b[39;00m \u001b[38;5;124m\"\u001b[39m\u001b[38;5;124mb\u001b[39m\u001b[38;5;124m\"\u001b[39m \u001b[38;5;129;01mnot\u001b[39;00m \u001b[38;5;129;01min\u001b[39;00m mode:\n\u001b[1;32m   1879\u001b[0m         mode \u001b[38;5;241m+\u001b[39m\u001b[38;5;241m=\u001b[39m \u001b[38;5;124m\"\u001b[39m\u001b[38;5;124mb\u001b[39m\u001b[38;5;124m\"\u001b[39m\n\u001b[0;32m-> 1880\u001b[0m \u001b[38;5;28mself\u001b[39m\u001b[38;5;241m.\u001b[39mhandles \u001b[38;5;241m=\u001b[39m \u001b[43mget_handle\u001b[49m\u001b[43m(\u001b[49m\n\u001b[1;32m   1881\u001b[0m \u001b[43m    \u001b[49m\u001b[43mf\u001b[49m\u001b[43m,\u001b[49m\n\u001b[1;32m   1882\u001b[0m \u001b[43m    \u001b[49m\u001b[43mmode\u001b[49m\u001b[43m,\u001b[49m\n\u001b[1;32m   1883\u001b[0m \u001b[43m    \u001b[49m\u001b[43mencoding\u001b[49m\u001b[38;5;241;43m=\u001b[39;49m\u001b[38;5;28;43mself\u001b[39;49m\u001b[38;5;241;43m.\u001b[39;49m\u001b[43moptions\u001b[49m\u001b[38;5;241;43m.\u001b[39;49m\u001b[43mget\u001b[49m\u001b[43m(\u001b[49m\u001b[38;5;124;43m\"\u001b[39;49m\u001b[38;5;124;43mencoding\u001b[39;49m\u001b[38;5;124;43m\"\u001b[39;49m\u001b[43m,\u001b[49m\u001b[43m \u001b[49m\u001b[38;5;28;43;01mNone\u001b[39;49;00m\u001b[43m)\u001b[49m\u001b[43m,\u001b[49m\n\u001b[1;32m   1884\u001b[0m \u001b[43m    \u001b[49m\u001b[43mcompression\u001b[49m\u001b[38;5;241;43m=\u001b[39;49m\u001b[38;5;28;43mself\u001b[39;49m\u001b[38;5;241;43m.\u001b[39;49m\u001b[43moptions\u001b[49m\u001b[38;5;241;43m.\u001b[39;49m\u001b[43mget\u001b[49m\u001b[43m(\u001b[49m\u001b[38;5;124;43m\"\u001b[39;49m\u001b[38;5;124;43mcompression\u001b[39;49m\u001b[38;5;124;43m\"\u001b[39;49m\u001b[43m,\u001b[49m\u001b[43m \u001b[49m\u001b[38;5;28;43;01mNone\u001b[39;49;00m\u001b[43m)\u001b[49m\u001b[43m,\u001b[49m\n\u001b[1;32m   1885\u001b[0m \u001b[43m    \u001b[49m\u001b[43mmemory_map\u001b[49m\u001b[38;5;241;43m=\u001b[39;49m\u001b[38;5;28;43mself\u001b[39;49m\u001b[38;5;241;43m.\u001b[39;49m\u001b[43moptions\u001b[49m\u001b[38;5;241;43m.\u001b[39;49m\u001b[43mget\u001b[49m\u001b[43m(\u001b[49m\u001b[38;5;124;43m\"\u001b[39;49m\u001b[38;5;124;43mmemory_map\u001b[39;49m\u001b[38;5;124;43m\"\u001b[39;49m\u001b[43m,\u001b[49m\u001b[43m \u001b[49m\u001b[38;5;28;43;01mFalse\u001b[39;49;00m\u001b[43m)\u001b[49m\u001b[43m,\u001b[49m\n\u001b[1;32m   1886\u001b[0m \u001b[43m    \u001b[49m\u001b[43mis_text\u001b[49m\u001b[38;5;241;43m=\u001b[39;49m\u001b[43mis_text\u001b[49m\u001b[43m,\u001b[49m\n\u001b[1;32m   1887\u001b[0m \u001b[43m    \u001b[49m\u001b[43merrors\u001b[49m\u001b[38;5;241;43m=\u001b[39;49m\u001b[38;5;28;43mself\u001b[39;49m\u001b[38;5;241;43m.\u001b[39;49m\u001b[43moptions\u001b[49m\u001b[38;5;241;43m.\u001b[39;49m\u001b[43mget\u001b[49m\u001b[43m(\u001b[49m\u001b[38;5;124;43m\"\u001b[39;49m\u001b[38;5;124;43mencoding_errors\u001b[39;49m\u001b[38;5;124;43m\"\u001b[39;49m\u001b[43m,\u001b[49m\u001b[43m \u001b[49m\u001b[38;5;124;43m\"\u001b[39;49m\u001b[38;5;124;43mstrict\u001b[39;49m\u001b[38;5;124;43m\"\u001b[39;49m\u001b[43m)\u001b[49m\u001b[43m,\u001b[49m\n\u001b[1;32m   1888\u001b[0m \u001b[43m    \u001b[49m\u001b[43mstorage_options\u001b[49m\u001b[38;5;241;43m=\u001b[39;49m\u001b[38;5;28;43mself\u001b[39;49m\u001b[38;5;241;43m.\u001b[39;49m\u001b[43moptions\u001b[49m\u001b[38;5;241;43m.\u001b[39;49m\u001b[43mget\u001b[49m\u001b[43m(\u001b[49m\u001b[38;5;124;43m\"\u001b[39;49m\u001b[38;5;124;43mstorage_options\u001b[39;49m\u001b[38;5;124;43m\"\u001b[39;49m\u001b[43m,\u001b[49m\u001b[43m \u001b[49m\u001b[38;5;28;43;01mNone\u001b[39;49;00m\u001b[43m)\u001b[49m\u001b[43m,\u001b[49m\n\u001b[1;32m   1889\u001b[0m \u001b[43m\u001b[49m\u001b[43m)\u001b[49m\n\u001b[1;32m   1890\u001b[0m \u001b[38;5;28;01massert\u001b[39;00m \u001b[38;5;28mself\u001b[39m\u001b[38;5;241m.\u001b[39mhandles \u001b[38;5;129;01mis\u001b[39;00m \u001b[38;5;129;01mnot\u001b[39;00m \u001b[38;5;28;01mNone\u001b[39;00m\n\u001b[1;32m   1891\u001b[0m f \u001b[38;5;241m=\u001b[39m \u001b[38;5;28mself\u001b[39m\u001b[38;5;241m.\u001b[39mhandles\u001b[38;5;241m.\u001b[39mhandle\n",
      "File \u001b[0;32m/opt/homebrew/lib/python3.12/site-packages/pandas/io/common.py:873\u001b[0m, in \u001b[0;36mget_handle\u001b[0;34m(path_or_buf, mode, encoding, compression, memory_map, is_text, errors, storage_options)\u001b[0m\n\u001b[1;32m    868\u001b[0m \u001b[38;5;28;01melif\u001b[39;00m \u001b[38;5;28misinstance\u001b[39m(handle, \u001b[38;5;28mstr\u001b[39m):\n\u001b[1;32m    869\u001b[0m     \u001b[38;5;66;03m# Check whether the filename is to be opened in binary mode.\u001b[39;00m\n\u001b[1;32m    870\u001b[0m     \u001b[38;5;66;03m# Binary mode does not support 'encoding' and 'newline'.\u001b[39;00m\n\u001b[1;32m    871\u001b[0m     \u001b[38;5;28;01mif\u001b[39;00m ioargs\u001b[38;5;241m.\u001b[39mencoding \u001b[38;5;129;01mand\u001b[39;00m \u001b[38;5;124m\"\u001b[39m\u001b[38;5;124mb\u001b[39m\u001b[38;5;124m\"\u001b[39m \u001b[38;5;129;01mnot\u001b[39;00m \u001b[38;5;129;01min\u001b[39;00m ioargs\u001b[38;5;241m.\u001b[39mmode:\n\u001b[1;32m    872\u001b[0m         \u001b[38;5;66;03m# Encoding\u001b[39;00m\n\u001b[0;32m--> 873\u001b[0m         handle \u001b[38;5;241m=\u001b[39m \u001b[38;5;28;43mopen\u001b[39;49m\u001b[43m(\u001b[49m\n\u001b[1;32m    874\u001b[0m \u001b[43m            \u001b[49m\u001b[43mhandle\u001b[49m\u001b[43m,\u001b[49m\n\u001b[1;32m    875\u001b[0m \u001b[43m            \u001b[49m\u001b[43mioargs\u001b[49m\u001b[38;5;241;43m.\u001b[39;49m\u001b[43mmode\u001b[49m\u001b[43m,\u001b[49m\n\u001b[1;32m    876\u001b[0m \u001b[43m            \u001b[49m\u001b[43mencoding\u001b[49m\u001b[38;5;241;43m=\u001b[39;49m\u001b[43mioargs\u001b[49m\u001b[38;5;241;43m.\u001b[39;49m\u001b[43mencoding\u001b[49m\u001b[43m,\u001b[49m\n\u001b[1;32m    877\u001b[0m \u001b[43m            \u001b[49m\u001b[43merrors\u001b[49m\u001b[38;5;241;43m=\u001b[39;49m\u001b[43merrors\u001b[49m\u001b[43m,\u001b[49m\n\u001b[1;32m    878\u001b[0m \u001b[43m            \u001b[49m\u001b[43mnewline\u001b[49m\u001b[38;5;241;43m=\u001b[39;49m\u001b[38;5;124;43m\"\u001b[39;49m\u001b[38;5;124;43m\"\u001b[39;49m\u001b[43m,\u001b[49m\n\u001b[1;32m    879\u001b[0m \u001b[43m        \u001b[49m\u001b[43m)\u001b[49m\n\u001b[1;32m    880\u001b[0m     \u001b[38;5;28;01melse\u001b[39;00m:\n\u001b[1;32m    881\u001b[0m         \u001b[38;5;66;03m# Binary mode\u001b[39;00m\n\u001b[1;32m    882\u001b[0m         handle \u001b[38;5;241m=\u001b[39m \u001b[38;5;28mopen\u001b[39m(handle, ioargs\u001b[38;5;241m.\u001b[39mmode)\n",
      "\u001b[0;31mFileNotFoundError\u001b[0m: [Errno 2] No such file or directory: 'app-lab-data.csv'"
     ]
    }
   ],
   "source": [
    "# Generate total time per user visualizations\n",
    "app_lab_leaderboard(app_lab_csv_file_path).show()\n",
    "csxl_leaderboard(csxl_csv_file_path).show()"
   ]
  },
  {
   "cell_type": "code",
   "execution_count": null,
   "metadata": {},
   "outputs": [
    {
     "data": {
      "text/html": [
       "\n",
       "<style>\n",
       "  #altair-viz-208b3d70b679464b814727b3307dfa3f.vega-embed {\n",
       "    width: 100%;\n",
       "    display: flex;\n",
       "  }\n",
       "\n",
       "  #altair-viz-208b3d70b679464b814727b3307dfa3f.vega-embed details,\n",
       "  #altair-viz-208b3d70b679464b814727b3307dfa3f.vega-embed details summary {\n",
       "    position: relative;\n",
       "  }\n",
       "</style>\n",
       "<div id=\"altair-viz-208b3d70b679464b814727b3307dfa3f\"></div>\n",
       "<script type=\"text/javascript\">\n",
       "  var VEGA_DEBUG = (typeof VEGA_DEBUG == \"undefined\") ? {} : VEGA_DEBUG;\n",
       "  (function(spec, embedOpt){\n",
       "    let outputDiv = document.currentScript.previousElementSibling;\n",
       "    if (outputDiv.id !== \"altair-viz-208b3d70b679464b814727b3307dfa3f\") {\n",
       "      outputDiv = document.getElementById(\"altair-viz-208b3d70b679464b814727b3307dfa3f\");\n",
       "    }\n",
       "    const paths = {\n",
       "      \"vega\": \"https://cdn.jsdelivr.net/npm/vega@5?noext\",\n",
       "      \"vega-lib\": \"https://cdn.jsdelivr.net/npm/vega-lib?noext\",\n",
       "      \"vega-lite\": \"https://cdn.jsdelivr.net/npm/vega-lite@5.17.0?noext\",\n",
       "      \"vega-embed\": \"https://cdn.jsdelivr.net/npm/vega-embed@6?noext\",\n",
       "    };\n",
       "\n",
       "    function maybeLoadScript(lib, version) {\n",
       "      var key = `${lib.replace(\"-\", \"\")}_version`;\n",
       "      return (VEGA_DEBUG[key] == version) ?\n",
       "        Promise.resolve(paths[lib]) :\n",
       "        new Promise(function(resolve, reject) {\n",
       "          var s = document.createElement('script');\n",
       "          document.getElementsByTagName(\"head\")[0].appendChild(s);\n",
       "          s.async = true;\n",
       "          s.onload = () => {\n",
       "            VEGA_DEBUG[key] = version;\n",
       "            return resolve(paths[lib]);\n",
       "          };\n",
       "          s.onerror = () => reject(`Error loading script: ${paths[lib]}`);\n",
       "          s.src = paths[lib];\n",
       "        });\n",
       "    }\n",
       "\n",
       "    function showError(err) {\n",
       "      outputDiv.innerHTML = `<div class=\"error\" style=\"color:red;\">${err}</div>`;\n",
       "      throw err;\n",
       "    }\n",
       "\n",
       "    function displayChart(vegaEmbed) {\n",
       "      vegaEmbed(outputDiv, spec, embedOpt)\n",
       "        .catch(err => showError(`Javascript Error: ${err.message}<br>This usually means there's a typo in your chart specification. See the javascript console for the full traceback.`));\n",
       "    }\n",
       "\n",
       "    if(typeof define === \"function\" && define.amd) {\n",
       "      requirejs.config({paths});\n",
       "      require([\"vega-embed\"], displayChart, err => showError(`Error loading script: ${err.message}`));\n",
       "    } else {\n",
       "      maybeLoadScript(\"vega\", \"5\")\n",
       "        .then(() => maybeLoadScript(\"vega-lite\", \"5.17.0\"))\n",
       "        .then(() => maybeLoadScript(\"vega-embed\", \"6\"))\n",
       "        .catch(showError)\n",
       "        .then(() => displayChart(vegaEmbed));\n",
       "    }\n",
       "  })({\"config\": {\"view\": {\"continuousWidth\": 300, \"continuousHeight\": 300}, \"mark\": {\"color\": \"#4786c6\"}}, \"data\": {\"name\": \"data-4b413cbafcc4828ffc4e602cde35e7ec\"}, \"mark\": {\"type\": \"bar\"}, \"encoding\": {\"column\": {\"field\": \"day_of_week\", \"sort\": [\"Monday\", \"Tuesday\", \"Wednesday\", \"Thursday\", \"Friday\"], \"title\": null, \"type\": \"nominal\"}, \"tooltip\": {\"field\": \"count\", \"type\": \"quantitative\"}, \"x\": {\"field\": \"civilian_time\", \"sort\": [\"9 AM\", \"10 AM\", \"11 AM\", \"12 PM\", \"1 PM\", \"2 PM\", \"3 PM\", \"4 PM\", \"5 PM\", \"6 PM\", \"7 PM\"], \"title\": \"Hour of the Day\", \"type\": \"nominal\"}, \"y\": {\"field\": \"count\", \"scale\": {\"domain\": [0, 244.0]}, \"title\": \"Reservations\", \"type\": \"quantitative\"}}, \"height\": 150, \"title\": \"Popular Times in the App Lab\", \"$schema\": \"https://vega.github.io/schema/vega-lite/v5.17.0.json\", \"datasets\": {\"data-4b413cbafcc4828ffc4e602cde35e7ec\": [{\"day_of_week\": \"Friday\", \"civilian_time\": \"1 PM\", \"count\": 11}, {\"day_of_week\": \"Friday\", \"civilian_time\": \"10 AM\", \"count\": 1}, {\"day_of_week\": \"Friday\", \"civilian_time\": \"11 AM\", \"count\": 2}, {\"day_of_week\": \"Friday\", \"civilian_time\": \"12 PM\", \"count\": 13}, {\"day_of_week\": \"Friday\", \"civilian_time\": \"2 PM\", \"count\": 12}, {\"day_of_week\": \"Friday\", \"civilian_time\": \"3 PM\", \"count\": 9}, {\"day_of_week\": \"Friday\", \"civilian_time\": \"4 PM\", \"count\": 13}, {\"day_of_week\": \"Friday\", \"civilian_time\": \"5 PM\", \"count\": 5}, {\"day_of_week\": \"Friday\", \"civilian_time\": \"6 PM\", \"count\": 1}, {\"day_of_week\": \"Friday\", \"civilian_time\": \"9 AM\", \"count\": 1}, {\"day_of_week\": \"Monday\", \"civilian_time\": \"1 PM\", \"count\": 14}, {\"day_of_week\": \"Monday\", \"civilian_time\": \"11 AM\", \"count\": 4}, {\"day_of_week\": \"Monday\", \"civilian_time\": \"12 PM\", \"count\": 14}, {\"day_of_week\": \"Monday\", \"civilian_time\": \"2 PM\", \"count\": 26}, {\"day_of_week\": \"Monday\", \"civilian_time\": \"3 PM\", \"count\": 34}, {\"day_of_week\": \"Monday\", \"civilian_time\": \"4 PM\", \"count\": 27}, {\"day_of_week\": \"Monday\", \"civilian_time\": \"5 PM\", \"count\": 17}, {\"day_of_week\": \"Monday\", \"civilian_time\": \"6 PM\", \"count\": 4}, {\"day_of_week\": \"Monday\", \"civilian_time\": \"9 AM\", \"count\": 4}, {\"day_of_week\": \"Thursday\", \"civilian_time\": \"1 PM\", \"count\": 10}, {\"day_of_week\": \"Thursday\", \"civilian_time\": \"10 AM\", \"count\": 1}, {\"day_of_week\": \"Thursday\", \"civilian_time\": \"11 AM\", \"count\": 4}, {\"day_of_week\": \"Thursday\", \"civilian_time\": \"12 PM\", \"count\": 27}, {\"day_of_week\": \"Thursday\", \"civilian_time\": \"2 PM\", \"count\": 16}, {\"day_of_week\": \"Thursday\", \"civilian_time\": \"3 PM\", \"count\": 49}, {\"day_of_week\": \"Thursday\", \"civilian_time\": \"4 PM\", \"count\": 34}, {\"day_of_week\": \"Thursday\", \"civilian_time\": \"5 PM\", \"count\": 4}, {\"day_of_week\": \"Thursday\", \"civilian_time\": \"6 PM\", \"count\": 4}, {\"day_of_week\": \"Tuesday\", \"civilian_time\": \"1 PM\", \"count\": 11}, {\"day_of_week\": \"Tuesday\", \"civilian_time\": \"10 AM\", \"count\": 2}, {\"day_of_week\": \"Tuesday\", \"civilian_time\": \"11 AM\", \"count\": 2}, {\"day_of_week\": \"Tuesday\", \"civilian_time\": \"12 PM\", \"count\": 31}, {\"day_of_week\": \"Tuesday\", \"civilian_time\": \"2 PM\", \"count\": 16}, {\"day_of_week\": \"Tuesday\", \"civilian_time\": \"3 PM\", \"count\": 69}, {\"day_of_week\": \"Tuesday\", \"civilian_time\": \"4 PM\", \"count\": 58}, {\"day_of_week\": \"Tuesday\", \"civilian_time\": \"5 PM\", \"count\": 16}, {\"day_of_week\": \"Wednesday\", \"civilian_time\": \"1 PM\", \"count\": 16}, {\"day_of_week\": \"Wednesday\", \"civilian_time\": \"10 AM\", \"count\": 3}, {\"day_of_week\": \"Wednesday\", \"civilian_time\": \"11 AM\", \"count\": 2}, {\"day_of_week\": \"Wednesday\", \"civilian_time\": \"12 PM\", \"count\": 12}, {\"day_of_week\": \"Wednesday\", \"civilian_time\": \"2 PM\", \"count\": 43}, {\"day_of_week\": \"Wednesday\", \"civilian_time\": \"3 PM\", \"count\": 22}, {\"day_of_week\": \"Wednesday\", \"civilian_time\": \"4 PM\", \"count\": 19}, {\"day_of_week\": \"Wednesday\", \"civilian_time\": \"5 PM\", \"count\": 11}, {\"day_of_week\": \"Wednesday\", \"civilian_time\": \"6 PM\", \"count\": 4}, {\"day_of_week\": \"Wednesday\", \"civilian_time\": \"7 PM\", \"count\": 1}]}}, {\"mode\": \"vega-lite\"});\n",
       "</script>"
      ],
      "text/plain": [
       "alt.Chart(...)"
      ]
     },
     "metadata": {},
     "output_type": "display_data"
    },
    {
     "data": {
      "text/html": [
       "\n",
       "<style>\n",
       "  #altair-viz-c5c5243b405847658c84c8e96c8d61f7.vega-embed {\n",
       "    width: 100%;\n",
       "    display: flex;\n",
       "  }\n",
       "\n",
       "  #altair-viz-c5c5243b405847658c84c8e96c8d61f7.vega-embed details,\n",
       "  #altair-viz-c5c5243b405847658c84c8e96c8d61f7.vega-embed details summary {\n",
       "    position: relative;\n",
       "  }\n",
       "</style>\n",
       "<div id=\"altair-viz-c5c5243b405847658c84c8e96c8d61f7\"></div>\n",
       "<script type=\"text/javascript\">\n",
       "  var VEGA_DEBUG = (typeof VEGA_DEBUG == \"undefined\") ? {} : VEGA_DEBUG;\n",
       "  (function(spec, embedOpt){\n",
       "    let outputDiv = document.currentScript.previousElementSibling;\n",
       "    if (outputDiv.id !== \"altair-viz-c5c5243b405847658c84c8e96c8d61f7\") {\n",
       "      outputDiv = document.getElementById(\"altair-viz-c5c5243b405847658c84c8e96c8d61f7\");\n",
       "    }\n",
       "    const paths = {\n",
       "      \"vega\": \"https://cdn.jsdelivr.net/npm/vega@5?noext\",\n",
       "      \"vega-lib\": \"https://cdn.jsdelivr.net/npm/vega-lib?noext\",\n",
       "      \"vega-lite\": \"https://cdn.jsdelivr.net/npm/vega-lite@5.17.0?noext\",\n",
       "      \"vega-embed\": \"https://cdn.jsdelivr.net/npm/vega-embed@6?noext\",\n",
       "    };\n",
       "\n",
       "    function maybeLoadScript(lib, version) {\n",
       "      var key = `${lib.replace(\"-\", \"\")}_version`;\n",
       "      return (VEGA_DEBUG[key] == version) ?\n",
       "        Promise.resolve(paths[lib]) :\n",
       "        new Promise(function(resolve, reject) {\n",
       "          var s = document.createElement('script');\n",
       "          document.getElementsByTagName(\"head\")[0].appendChild(s);\n",
       "          s.async = true;\n",
       "          s.onload = () => {\n",
       "            VEGA_DEBUG[key] = version;\n",
       "            return resolve(paths[lib]);\n",
       "          };\n",
       "          s.onerror = () => reject(`Error loading script: ${paths[lib]}`);\n",
       "          s.src = paths[lib];\n",
       "        });\n",
       "    }\n",
       "\n",
       "    function showError(err) {\n",
       "      outputDiv.innerHTML = `<div class=\"error\" style=\"color:red;\">${err}</div>`;\n",
       "      throw err;\n",
       "    }\n",
       "\n",
       "    function displayChart(vegaEmbed) {\n",
       "      vegaEmbed(outputDiv, spec, embedOpt)\n",
       "        .catch(err => showError(`Javascript Error: ${err.message}<br>This usually means there's a typo in your chart specification. See the javascript console for the full traceback.`));\n",
       "    }\n",
       "\n",
       "    if(typeof define === \"function\" && define.amd) {\n",
       "      requirejs.config({paths});\n",
       "      require([\"vega-embed\"], displayChart, err => showError(`Error loading script: ${err.message}`));\n",
       "    } else {\n",
       "      maybeLoadScript(\"vega\", \"5\")\n",
       "        .then(() => maybeLoadScript(\"vega-lite\", \"5.17.0\"))\n",
       "        .then(() => maybeLoadScript(\"vega-embed\", \"6\"))\n",
       "        .catch(showError)\n",
       "        .then(() => displayChart(vegaEmbed));\n",
       "    }\n",
       "  })({\"config\": {\"view\": {\"continuousWidth\": 300, \"continuousHeight\": 300}, \"mark\": {\"color\": \"#4786c6\"}}, \"data\": {\"name\": \"data-652dbae7ba14bfd7e10d7defb0231241\"}, \"mark\": {\"type\": \"bar\"}, \"encoding\": {\"column\": {\"field\": \"day_of_week\", \"sort\": [\"Monday\", \"Tuesday\", \"Wednesday\", \"Thursday\", \"Friday\"], \"title\": null, \"type\": \"nominal\"}, \"tooltip\": {\"field\": \"count\", \"type\": \"quantitative\"}, \"x\": {\"field\": \"civilian_time\", \"scale\": {\"domain\": [\"9 AM\", \"10 AM\", \"11 AM\", \"12 PM\", \"1 PM\", \"2 PM\", \"3 PM\", \"4 PM\", \"5 PM\", \"6 PM\", \"7 PM\"]}, \"sort\": [\"9 AM\", \"10 AM\", \"11 AM\", \"12 PM\", \"1 PM\", \"2 PM\", \"3 PM\", \"4 PM\", \"5 PM\", \"6 PM\", \"7 PM\"], \"title\": \"Hour of the Day\", \"type\": \"nominal\"}, \"y\": {\"field\": \"count\", \"scale\": {\"domain\": [0, 244.0]}, \"title\": \"Reservations\", \"type\": \"quantitative\"}}, \"height\": 150, \"title\": \"Popular Times in the CSXL\", \"$schema\": \"https://vega.github.io/schema/vega-lite/v5.17.0.json\", \"datasets\": {\"data-652dbae7ba14bfd7e10d7defb0231241\": [{\"day_of_week\": \"Friday\", \"civilian_time\": \"1 PM\", \"count\": 110}, {\"day_of_week\": \"Friday\", \"civilian_time\": \"10 AM\", \"count\": 85}, {\"day_of_week\": \"Friday\", \"civilian_time\": \"11 AM\", \"count\": 53}, {\"day_of_week\": \"Friday\", \"civilian_time\": \"12 PM\", \"count\": 90}, {\"day_of_week\": \"Friday\", \"civilian_time\": \"2 PM\", \"count\": 157}, {\"day_of_week\": \"Friday\", \"civilian_time\": \"3 PM\", \"count\": 94}, {\"day_of_week\": \"Friday\", \"civilian_time\": \"4 PM\", \"count\": 69}, {\"day_of_week\": \"Friday\", \"civilian_time\": \"5 PM\", \"count\": 29}, {\"day_of_week\": \"Monday\", \"civilian_time\": \"1 PM\", \"count\": 153}, {\"day_of_week\": \"Monday\", \"civilian_time\": \"10 AM\", \"count\": 100}, {\"day_of_week\": \"Monday\", \"civilian_time\": \"11 AM\", \"count\": 88}, {\"day_of_week\": \"Monday\", \"civilian_time\": \"12 PM\", \"count\": 149}, {\"day_of_week\": \"Monday\", \"civilian_time\": \"2 PM\", \"count\": 209}, {\"day_of_week\": \"Monday\", \"civilian_time\": \"3 PM\", \"count\": 200}, {\"day_of_week\": \"Monday\", \"civilian_time\": \"4 PM\", \"count\": 120}, {\"day_of_week\": \"Monday\", \"civilian_time\": \"5 PM\", \"count\": 56}, {\"day_of_week\": \"Thursday\", \"civilian_time\": \"1 PM\", \"count\": 188}, {\"day_of_week\": \"Thursday\", \"civilian_time\": \"10 AM\", \"count\": 113}, {\"day_of_week\": \"Thursday\", \"civilian_time\": \"11 AM\", \"count\": 94}, {\"day_of_week\": \"Thursday\", \"civilian_time\": \"12 PM\", \"count\": 166}, {\"day_of_week\": \"Thursday\", \"civilian_time\": \"2 PM\", \"count\": 121}, {\"day_of_week\": \"Thursday\", \"civilian_time\": \"3 PM\", \"count\": 215}, {\"day_of_week\": \"Thursday\", \"civilian_time\": \"4 PM\", \"count\": 129}, {\"day_of_week\": \"Thursday\", \"civilian_time\": \"5 PM\", \"count\": 66}, {\"day_of_week\": \"Tuesday\", \"civilian_time\": \"1 PM\", \"count\": 175}, {\"day_of_week\": \"Tuesday\", \"civilian_time\": \"10 AM\", \"count\": 113}, {\"day_of_week\": \"Tuesday\", \"civilian_time\": \"11 AM\", \"count\": 103}, {\"day_of_week\": \"Tuesday\", \"civilian_time\": \"12 PM\", \"count\": 227}, {\"day_of_week\": \"Tuesday\", \"civilian_time\": \"2 PM\", \"count\": 127}, {\"day_of_week\": \"Tuesday\", \"civilian_time\": \"3 PM\", \"count\": 235}, {\"day_of_week\": \"Tuesday\", \"civilian_time\": \"4 PM\", \"count\": 139}, {\"day_of_week\": \"Tuesday\", \"civilian_time\": \"5 PM\", \"count\": 67}, {\"day_of_week\": \"Wednesday\", \"civilian_time\": \"1 PM\", \"count\": 189}, {\"day_of_week\": \"Wednesday\", \"civilian_time\": \"10 AM\", \"count\": 103}, {\"day_of_week\": \"Wednesday\", \"civilian_time\": \"11 AM\", \"count\": 78}, {\"day_of_week\": \"Wednesday\", \"civilian_time\": \"12 PM\", \"count\": 211}, {\"day_of_week\": \"Wednesday\", \"civilian_time\": \"2 PM\", \"count\": 244}, {\"day_of_week\": \"Wednesday\", \"civilian_time\": \"3 PM\", \"count\": 174}, {\"day_of_week\": \"Wednesday\", \"civilian_time\": \"4 PM\", \"count\": 120}, {\"day_of_week\": \"Wednesday\", \"civilian_time\": \"5 PM\", \"count\": 75}]}}, {\"mode\": \"vega-lite\"});\n",
       "</script>"
      ],
      "text/plain": [
       "alt.Chart(...)"
      ]
     },
     "metadata": {},
     "output_type": "display_data"
    }
   ],
   "source": [
    "# Generate popular times visualizations\n",
    "popular_times = popular_times_comparison(app_lab_csv_file_path, csxl_csv_file_path)\n",
    "popular_times[0].show()\n",
    "popular_times[1].show()"
   ]
  },
  {
   "cell_type": "code",
   "execution_count": null,
   "metadata": {},
   "outputs": [
    {
     "data": {
      "text/html": [
       "\n",
       "<style>\n",
       "  #altair-viz-4cafac3bac0248e48773a974d644a037.vega-embed {\n",
       "    width: 100%;\n",
       "    display: flex;\n",
       "  }\n",
       "\n",
       "  #altair-viz-4cafac3bac0248e48773a974d644a037.vega-embed details,\n",
       "  #altair-viz-4cafac3bac0248e48773a974d644a037.vega-embed details summary {\n",
       "    position: relative;\n",
       "  }\n",
       "</style>\n",
       "<div id=\"altair-viz-4cafac3bac0248e48773a974d644a037\"></div>\n",
       "<script type=\"text/javascript\">\n",
       "  var VEGA_DEBUG = (typeof VEGA_DEBUG == \"undefined\") ? {} : VEGA_DEBUG;\n",
       "  (function(spec, embedOpt){\n",
       "    let outputDiv = document.currentScript.previousElementSibling;\n",
       "    if (outputDiv.id !== \"altair-viz-4cafac3bac0248e48773a974d644a037\") {\n",
       "      outputDiv = document.getElementById(\"altair-viz-4cafac3bac0248e48773a974d644a037\");\n",
       "    }\n",
       "    const paths = {\n",
       "      \"vega\": \"https://cdn.jsdelivr.net/npm/vega@5?noext\",\n",
       "      \"vega-lib\": \"https://cdn.jsdelivr.net/npm/vega-lib?noext\",\n",
       "      \"vega-lite\": \"https://cdn.jsdelivr.net/npm/vega-lite@5.17.0?noext\",\n",
       "      \"vega-embed\": \"https://cdn.jsdelivr.net/npm/vega-embed@6?noext\",\n",
       "    };\n",
       "\n",
       "    function maybeLoadScript(lib, version) {\n",
       "      var key = `${lib.replace(\"-\", \"\")}_version`;\n",
       "      return (VEGA_DEBUG[key] == version) ?\n",
       "        Promise.resolve(paths[lib]) :\n",
       "        new Promise(function(resolve, reject) {\n",
       "          var s = document.createElement('script');\n",
       "          document.getElementsByTagName(\"head\")[0].appendChild(s);\n",
       "          s.async = true;\n",
       "          s.onload = () => {\n",
       "            VEGA_DEBUG[key] = version;\n",
       "            return resolve(paths[lib]);\n",
       "          };\n",
       "          s.onerror = () => reject(`Error loading script: ${paths[lib]}`);\n",
       "          s.src = paths[lib];\n",
       "        });\n",
       "    }\n",
       "\n",
       "    function showError(err) {\n",
       "      outputDiv.innerHTML = `<div class=\"error\" style=\"color:red;\">${err}</div>`;\n",
       "      throw err;\n",
       "    }\n",
       "\n",
       "    function displayChart(vegaEmbed) {\n",
       "      vegaEmbed(outputDiv, spec, embedOpt)\n",
       "        .catch(err => showError(`Javascript Error: ${err.message}<br>This usually means there's a typo in your chart specification. See the javascript console for the full traceback.`));\n",
       "    }\n",
       "\n",
       "    if(typeof define === \"function\" && define.amd) {\n",
       "      requirejs.config({paths});\n",
       "      require([\"vega-embed\"], displayChart, err => showError(`Error loading script: ${err.message}`));\n",
       "    } else {\n",
       "      maybeLoadScript(\"vega\", \"5\")\n",
       "        .then(() => maybeLoadScript(\"vega-lite\", \"5.17.0\"))\n",
       "        .then(() => maybeLoadScript(\"vega-embed\", \"6\"))\n",
       "        .catch(showError)\n",
       "        .then(() => displayChart(vegaEmbed));\n",
       "    }\n",
       "  })({\"config\": {\"view\": {\"continuousWidth\": 300, \"continuousHeight\": 300}, \"mark\": {\"color\": \"#4786c6\"}}, \"data\": {\"name\": \"data-f3b25b1381aabbbee1a5eaef10e63d32\"}, \"mark\": {\"type\": \"bar\"}, \"encoding\": {\"tooltip\": [{\"field\": \"count\", \"type\": \"quantitative\"}], \"x\": {\"field\": \"count\", \"title\": null, \"type\": \"quantitative\"}, \"y\": {\"field\": \"title\", \"title\": \"Seat Type\", \"type\": \"nominal\"}}, \"height\": 150, \"title\": \"Reservations by Seat Type\", \"$schema\": \"https://vega.github.io/schema/vega-lite/v5.17.0.json\", \"datasets\": {\"data-f3b25b1381aabbbee1a5eaef10e63d32\": [{\"title\": \"Communal Area Seat\", \"count\": 1506}, {\"title\": \"Sitting Desk with Monitor\", \"count\": 2854}, {\"title\": \"Standing Desk with Monitor\", \"count\": 874}]}}, {\"mode\": \"vega-lite\"});\n",
       "</script>"
      ],
      "text/plain": [
       "alt.Chart(...)"
      ]
     },
     "metadata": {},
     "output_type": "display_data"
    }
   ],
   "source": [
    "# Generate reservations by seat type visualization\n",
    "reservations_by_seat_type(csxl_csv_file_path).show()"
   ]
  }
 ],
 "metadata": {
  "kernelspec": {
   "display_name": "Python 3",
   "language": "python",
   "name": "python3"
  },
  "language_info": {
   "codemirror_mode": {
    "name": "ipython",
    "version": 3
   },
   "file_extension": ".py",
   "mimetype": "text/x-python",
   "name": "python",
   "nbconvert_exporter": "python",
   "pygments_lexer": "ipython3",
   "version": "3.12.2"
  }
 },
 "nbformat": 4,
 "nbformat_minor": 2
}
